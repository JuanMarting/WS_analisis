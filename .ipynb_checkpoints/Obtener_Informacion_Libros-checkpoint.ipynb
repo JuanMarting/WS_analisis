{
 "cells": [
  {
   "cell_type": "markdown",
   "id": "ad2e784d",
   "metadata": {},
   "source": [
    "## Caso: WebS y Análisis\n",
    "Extraiga la información de interes(Titulo, #Estrellas, Precio) de los libros de la siguiente pagina:\n",
    "https://books.toscrape.com/\n",
    "y realice un respectivo análisis."
   ]
  },
  {
   "cell_type": "markdown",
   "id": "e0462f91",
   "metadata": {},
   "source": [
    "Procedemos a importar las librerias de uso para solucionar la situación:"
   ]
  },
  {
   "cell_type": "code",
   "execution_count": 25,
   "id": "8fbedfb5",
   "metadata": {},
   "outputs": [],
   "source": [
    "# librerias para realizar Web Scraping con bs4\n",
    "import bs4\n",
    "import requests\n",
    "import lxml\n",
    "import re # expresiones regulares\n",
    "\n",
    "# Librerias para analizar información obtenida\n",
    "import pandas as pd #Manipulacion y analizar datos\n",
    "import numpy as np # Para operaciones numericas\n",
    "\n",
    "# librerias para visualizacion\n",
    "import matplotlib.pyplot as plt\n",
    "import matplotlib.ticker as mtick  ## función para formatear en visualizaciones\n",
    "import seaborn as sns\n",
    "\n",
    "# funciones estadísticas\n",
    "from scipy.stats import skew, kurtosis"
   ]
  },
  {
   "cell_type": "code",
   "execution_count": 2,
   "id": "87ae8019",
   "metadata": {},
   "outputs": [],
   "source": [
    "# Con esta función vamos a obtener toda la información del sitio web requerido.\n",
    "def obtener_datos():\n",
    "    # Lista de los titulos segun su rating\n",
    "    titulos_libros = []\n",
    "    calificaciones_libros = []\n",
    "    precios_libros = []\n",
    "\n",
    "    # Crear una URL sin numero de pagina para realizar la toma de manera dinamica\n",
    "    url_base = 'https://books.toscrape.com/catalogue/page-{}.html'\n",
    "\n",
    "    # iterar en las paginas del sitio web\n",
    "    for pagina in range(1, 51):\n",
    "\n",
    "        #  crear soup en cada pagina\n",
    "        url_pagina = url_base.format(pagina)\n",
    "        resultado = requests.get(url_pagina)\n",
    "        sopa = bs4.BeautifulSoup(resultado.text, \"lxml\")\n",
    "\n",
    "        #  seleccionar informacion de los libros\n",
    "        libros = sopa.select(\".product_pod\")\n",
    "\n",
    "        #  iterar en los libros\n",
    "        for libro in libros:\n",
    "\n",
    "            #  Chequeamos informacion de los ratings\n",
    "\n",
    "            if len(libro.select('.star-rating.One')) != 0:\n",
    "\n",
    "                # Guardar titulo en variable\n",
    "                titulo_libro = libro.select(\"a\")[1][\"title\"]\n",
    "                # obtener precio\n",
    "                precio_libro  = libro.select('p')[1].get_text() # obtengo todo el texto de la etiqueta del parrafo\n",
    "                precio_libro = [float(precio) for precio in re.findall(r'(\\d+\\.\\d+)', precio_libro)] # obtengo parte numerica\n",
    "                precios_libros.append(precio_libro[0])  # agrego el str del precio\n",
    "                # agregar libro a la lista\n",
    "                titulos_libros.append(titulo_libro)\n",
    "                calificaciones_libros.append(1)\n",
    "\n",
    "\n",
    "            elif len(libro.select('.star-rating.Two')) != 0:\n",
    "\n",
    "                # Guardar titulo en variable\n",
    "                titulo_libro = libro.select(\"a\")[1][\"title\"]\n",
    "                # obtener precio\n",
    "                precio_libro  = libro.select('p')[1].get_text() # obtengo todo el texto de la etiqueta del parrafo\n",
    "                precio_libro = [float(precio) for precio in re.findall(r'(\\d+\\.\\d+)', precio_libro)] # obtengo parte numerica\n",
    "                precios_libros.append(precio_libro[0])  # agrego el str del precio\n",
    "                # agregar libro a la lista\n",
    "                titulos_libros.append(titulo_libro)\n",
    "                calificaciones_libros.append(2)\n",
    "\n",
    "            elif len(libro.select('.star-rating.Three')) != 0:\n",
    "\n",
    "                # Guardar titulo en variable\n",
    "                titulo_libro = libro.select(\"a\")[1][\"title\"]\n",
    "                # obtener precio\n",
    "                precio_libro  = libro.select('p')[1].get_text() # obtengo todo el texto de la etiqueta del parrafo\n",
    "                precio_libro = [float(precio) for precio in re.findall(r'(\\d+\\.\\d+)', precio_libro)] # obtengo parte numerica\n",
    "                precios_libros.append(precio_libro[0])  # agrego el str del precio\n",
    "                # agregar libro a la lista\n",
    "                titulos_libros.append(titulo_libro)\n",
    "                calificaciones_libros.append(3)\n",
    "\n",
    "            elif len(libro.select('.star-rating.Four')) != 0:\n",
    "\n",
    "                # Guardar titulo en variable\n",
    "                titulo_libro = libro.select(\"a\")[1][\"title\"]\n",
    "                # obtener precio\n",
    "                precio_libro  = libro.select('p')[1].get_text() # obtengo todo el texto de la etiqueta del parrafo\n",
    "                precio_libro = [float(precio) for precio in re.findall(r'(\\d+\\.\\d+)', precio_libro)] # obtengo parte numerica\n",
    "                precios_libros.append(precio_libro[0])  # agrego el str del precio\n",
    "                # agregar libro a la lista\n",
    "                titulos_libros.append(titulo_libro)\n",
    "                calificaciones_libros.append(4)\n",
    "\n",
    "            elif len(libro.select('.star-rating.Five')) != 0:\n",
    "\n",
    "                # Guardar titulo en variable\n",
    "                titulo_libro = libro.select(\"a\")[1][\"title\"]\n",
    "                # obtener precio\n",
    "                precio_libro  = libro.select('p')[1].get_text() # obtengo todo el texto de la etiqueta del parrafo\n",
    "                precio_libro = [float(precio) for precio in re.findall(r'(\\d+\\.\\d+)', precio_libro)] # obtengo parte numerica\n",
    "                precios_libros.append(precio_libro[0])  # agrego el str del precio\n",
    "                # agregar libro a la lista\n",
    "                titulos_libros.append(titulo_libro)\n",
    "                calificaciones_libros.append(5)\n",
    "\n",
    "\n",
    "    return titulos_libros, calificaciones_libros, precios_libros"
   ]
  },
  {
   "cell_type": "code",
   "execution_count": 3,
   "id": "d33e825b",
   "metadata": {},
   "outputs": [
    {
     "name": "stdout",
     "output_type": "stream",
     "text": [
      "Titulos: ['A Light in the Attic', 'Tipping the Velvet', 'Soumission', 'Sharp Objects', 'Sapiens: A Brief History of Humankind', 'The Requiem Red', 'The Dirty Little Secrets of Getting Your Dream Job', 'The Coming Woman: A Novel Based on the Life of the Infamous Feminist, Victoria Woodhull', 'The Boys in the Boat: Nine Americans and Their Epic Quest for Gold at the 1936 Berlin Olympics', 'The Black Maria', 'Starving Hearts (Triangular Trade Trilogy, #1)', \"Shakespeare's Sonnets\", 'Set Me Free', \"Scott Pilgrim's Precious Little Life (Scott Pilgrim #1)\", 'Rip it Up and Start Again', 'Our Band Could Be Your Life: Scenes from the American Indie Underground, 1981-1991', 'Olio', 'Mesaerion: The Best Science Fiction Stories 1800-1849', 'Libertarianism for Beginners', \"It's Only the Himalayas\", 'In Her Wake', 'How Music Works', 'Foolproof Preserving: A Guide to Small Batch Jams, Jellies, Pickles, Condiments, and More: A Foolproof Guide to Making Small Batch Jams, Jellies, Pickles, Condiments, and More', 'Chase Me (Paris Nights #2)', 'Black Dust', 'Birdsong: A Story in Pictures', \"America's Cradle of Quarterbacks: Western Pennsylvania's Football Factory from Johnny Unitas to Joe Montana\", 'Aladdin and His Wonderful Lamp', 'Worlds Elsewhere: Journeys Around Shakespeareâ\\x80\\x99s Globe', 'Wall and Piece', 'The Four Agreements: A Practical Guide to Personal Freedom', 'The Five Love Languages: How to Express Heartfelt Commitment to Your Mate', 'The Elephant Tree', 'The Bear and the Piano', \"Sophie's World\", 'Penny Maybe', 'Maude (1883-1993):She Grew Up with the country', 'In a Dark, Dark Wood', 'Behind Closed Doors', \"You can't bury them all: Poems\", 'Slow States of Collapse: Poems', 'Reasons to Stay Alive', 'Private Paris (Private #10)', '#HigherSelfie: Wake Up Your Life. Free Your Soul. Find Your Tribe.', 'Without Borders (Wanderlove #1)', 'When We Collided', 'We Love You, Charlie Freeman', 'Untitled Collection: Sabbath Poems 2014', 'Unseen City: The Majesty of Pigeons, the Discreet Charm of Snails & Other Wonders of the Urban Wilderness', 'Unicorn Tracks', 'Unbound: How Eight Technologies Made Us Human, Transformed Society, and Brought Our World to the Brink', 'Tsubasa: WoRLD CHRoNiCLE 2 (Tsubasa WoRLD CHRoNiCLE #2)', 'Throwing Rocks at the Google Bus: How Growth Became the Enemy of Prosperity', 'This One Summer', 'Thirst', 'The Torch Is Passed: A Harding Family Story', 'The Secret of Dreadwillow Carse', 'The Pioneer Woman Cooks: Dinnertime: Comfort Classics, Freezer Food, 16-Minute Meals, and Other Delicious Ways to Solve Supper!', 'The Past Never Ends', 'The Natural History of Us (The Fine Art of Pretending #2)', 'The Nameless City (The Nameless City #1)', 'The Murder That Never Was (Forensic Instincts #5)', \"The Most Perfect Thing: Inside (and Outside) a Bird's Egg\", 'The Mindfulness and Acceptance Workbook for Anxiety: A Guide to Breaking Free from Anxiety, Phobias, and Worry Using Acceptance and Commitment Therapy', 'The Life-Changing Magic of Tidying Up: The Japanese Art of Decluttering and Organizing', 'The Inefficiency Assassin: Time Management Tactics for Working Smarter, Not Longer', 'The Gutsy Girl: Escapades for Your Life of Epic Adventure', 'The Electric Pencil: Drawings from Inside State Hospital No. 3', 'The Death of Humanity: and the Case for Life', 'The Bulletproof Diet: Lose up to a Pound a Day, Reclaim Energy and Focus, Upgrade Your Life', 'The Art Forger', 'The Age of Genius: The Seventeenth Century and the Birth of the Modern Mind', \"The Activist's Tao Te Ching: Ancient Advice for a Modern Revolution\", 'Spark Joy: An Illustrated Master Class on the Art of Organizing and Tidying Up', 'Soul Reader', 'Security', 'Saga, Volume 6 (Saga (Collected Editions) #6)', 'Saga, Volume 5 (Saga (Collected Editions) #5)', 'Reskilling America: Learning to Labor in the Twenty-First Century', 'Rat Queens, Vol. 3: Demons (Rat Queens (Collected Editions) #11-15)', 'Princess Jellyfish 2-in-1 Omnibus, Vol. 01 (Princess Jellyfish 2-in-1 Omnibus #1)', 'Princess Between Worlds (Wide-Awake Princess #5)', 'Pop Gun War, Volume 1: Gift', 'Political Suicide: Missteps, Peccadilloes, Bad Calls, Backroom Hijinx, Sordid Pasts, Rotten Breaks, and Just Plain Dumb Mistakes in the Annals of American Politics', 'Patience', 'Outcast, Vol. 1: A Darkness Surrounds Him (Outcast #1)', 'orange: The Complete Collection 1 (orange: The Complete Collection #1)', 'Online Marketing for Busy Authors: A Step-By-Step Guide', 'On a Midnight Clear', 'Obsidian (Lux #1)', 'My Paris Kitchen: Recipes and Stories', 'Masks and Shadows', 'Mama Tried: Traditional Italian Cooking for the Screwed, Crude, Vegan, and Tattooed', 'Lumberjanes, Vol. 2: Friendship to the Max (Lumberjanes #5-8)', 'Lumberjanes, Vol. 1: Beware the Kitten Holy (Lumberjanes #1-4)', 'Lumberjanes Vol. 3: A Terrible Plan (Lumberjanes #9-12)', 'Layered: Baking, Building, and Styling Spectacular Cakes', 'Judo: Seven Steps to Black Belt (an Introductory Guide for Beginners)', 'Join', 'In the Country We Love: My Family Divided', 'Immunity: How Elie Metchnikoff Changed the Course of Modern Medicine', 'I Hate Fairyland, Vol. 1: Madly Ever After (I Hate Fairyland (Compilations) #1-5)', 'I am a Hero Omnibus Volume 1', 'How to Be Miserable: 40 Strategies You Already Use', 'Her Backup Boyfriend (The Sorensen Family #1)', 'Giant Days, Vol. 2 (Giant Days #5-8)', 'Forever and Forever: The Courtship of Henry Longfellow and Fanny Appleton', 'First and First (Five Boroughs #3)', 'Fifty Shades Darker (Fifty Shades #2)', 'Everydata: The Misinformation Hidden in the Little Data You Consume Every Day', \"Don't Be a Jerk: And Other Practical Advice from Dogen, Japan's Greatest Zen Master\", 'Danganronpa Volume 1', 'Crown of Midnight (Throne of Glass #2)', 'Codename Baboushka, Volume 1: The Conclave of Death', 'Camp Midnight', 'Call the Nurse: True Stories of a Country Nurse on a Scottish Isle', 'Burning', 'Bossypants', 'Bitch Planet, Vol. 1: Extraordinary Machine (Bitch Planet (Collected Editions))', 'Avatar: The Last Airbender: Smoke and Shadow, Part 3 (Smoke and Shadow #3)', 'Algorithms to Live By: The Computer Science of Human Decisions', 'A World of Flavor: Your Gluten Free Passport', 'A Piece of Sky, a Grain of Rice: A Memoir in Four Meditations', 'A Murder in Time', 'A Flight of Arrows (The Pathfinders #2)', 'A Fierce and Subtle Poison', 'A Court of Thorns and Roses (A Court of Thorns and Roses #1)', '(Un)Qualified: How God Uses Broken People to Do Big Things', 'You Are What You Love: The Spiritual Power of Habit', \"William Shakespeare's Star Wars: Verily, A New Hope (William Shakespeare's Star Wars #4)\", 'Tuesday Nights in 1980', 'Tracing Numbers on a Train', 'Throne of Glass (Throne of Glass #1)', 'Thomas Jefferson and the Tripoli Pirates: The Forgotten War That Changed American History', 'Thirteen Reasons Why', 'The White Cat and the Monk: A Retelling of the Poem â\\x80\\x9cPangur BÃ¡nâ\\x80\\x9d', 'The Wedding Dress', 'The Vacationers', 'The Third Wave: An Entrepreneurâ\\x80\\x99s Vision of the Future', 'The Stranger', 'The Shadow Hero (The Shadow Hero)', 'The Secret (The Secret #1)', 'The Regional Office Is Under Attack!', 'The Psychopath Test: A Journey Through the Madness Industry', 'The Project', 'The Power of Now: A Guide to Spiritual Enlightenment', \"The Omnivore's Dilemma: A Natural History of Four Meals\", 'The Nerdy Nummies Cookbook: Sweet Treats for the Geek in All of Us', 'The Murder of Roger Ackroyd (Hercule Poirot #4)', 'The Mistake (Off-Campus #2)', \"The Matchmaker's Playbook (Wingmen Inc. #1)\", 'The Love and Lemons Cookbook: An Apple-to-Zucchini Celebration of Impromptu Cooking', 'The Long Shadow of Small Ghosts: Murder and Memory in an American City', 'The Kite Runner', 'The House by the Lake', 'The Glittering Court (The Glittering Court #1)', 'The Girl on the Train', 'The Genius of Birds', 'The Emerald Mystery', 'The Cookies & Cups Cookbook: 125+ sweet & savory recipes reminding you to Always Eat Dessert First', \"The Bridge to Consciousness: I'm Writing the Bridge Between Science and Our Old and New Beliefs.\", \"The Artist's Way: A Spiritual Path to Higher Creativity\", 'The Art of War', 'The Argonauts', 'The 10% Entrepreneur: Live Your Startup Dream Without Quitting Your Day Job', 'Suddenly in Love (Lake Haven #1)', 'Something More Than This', 'Soft Apocalypse', \"So You've Been Publicly Shamed\", 'Shoe Dog: A Memoir by the Creator of NIKE', 'Shobu Samurai, Project Aryoku (#3)', 'Secrets and Lace (Fatal Hearts #1)', 'Scarlett Epstein Hates It Here', 'Romero and Juliet: A Tragic Tale of Love and Zombies', 'Redeeming Love', 'Poses for Artists Volume 1 - Dynamic and Sitting Poses: An Essential Reference for Figure Drawing and the Human Form', 'Poems That Make Grown Women Cry', 'Nightingale, Sing', 'Night Sky with Exit Wounds', 'Mrs. Houdini', 'Modern Romance', 'Miss Peregrineâ\\x80\\x99s Home for Peculiar Children (Miss Peregrineâ\\x80\\x99s Peculiar Children #1)', 'Louisa: The Extraordinary Life of Mrs. Adams', 'Little Red', 'Library of Souls (Miss Peregrineâ\\x80\\x99s Peculiar Children #3)', 'Large Print Heart of the Pride', 'I Had a Nice Time And Other Lies...: How to find love & sh*t like that', 'Hollow City (Miss Peregrineâ\\x80\\x99s Peculiar Children #2)', 'Grumbles', 'Full Moon over Noahâ\\x80\\x99s Ark: An Odyssey to Mount Ararat and Beyond', 'Frostbite (Vampire Academy #2)', 'Follow You Home', 'First Steps for New Christians (Print Edition)', 'Finders Keepers (Bill Hodges Trilogy #2)', 'Fables, Vol. 1: Legends in Exile (Fables #1)', 'Eureka Trivia 6.0', 'Drive: The Surprising Truth About What Motivates Us', 'Done Rubbed Out (Reightman & Bailey #1)', 'Doing It Over (Most Likely To #1)', 'Deliciously Ella Every Day: Quick and Easy Recipes for Gluten-Free Snacks, Packed Lunches, and Simple Meals', 'Dark Notes', 'Daring Greatly: How the Courage to Be Vulnerable Transforms the Way We Live, Love, Parent, and Lead', 'Close to You', 'Chasing Heaven: What Dying Taught Me About Living', 'Big Magic: Creative Living Beyond Fear', 'Becoming Wise: An Inquiry into the Mystery and Art of Living', 'Beauty Restored (Riley Family Legacy Novellas #3)', 'Batman: The Long Halloween (Batman)', 'Batman: The Dark Knight Returns (Batman)', \"Ayumi's Violin\", 'Anonymous', 'Amy Meets the Saints and Sages', 'Amid the Chaos', 'Amatus', 'Agnostic: A Spirited Manifesto', 'Zealot: The Life and Times of Jesus of Nazareth', 'You (You #1)', 'Wonder Woman: Earth One, Volume One (Wonder Woman: Earth One #1)', 'Wild Swans', 'Why the Right Went Wrong: Conservatism--From Goldwater to the Tea Party and Beyond', 'Whole Lotta Creativity Going On: 60 Fun and Unusual Exercises to Awaken and Strengthen Your Creativity', \"What's It Like in Space?: Stories from Astronauts Who've Been There\", 'We Are Robin, Vol. 1: The Vigilante Business (We Are Robin #1)', \"Walt Disney's Alice in Wonderland\", 'V for Vendetta (V for Vendetta Complete)', 'Until Friday Night (The Field Party #1)', 'Unbroken: A World War II Story of Survival, Resilience, and Redemption', 'Twenty Yawns', 'Through the Woods', 'This Is Where It Ends', 'The Year of Magical Thinking', 'The Wright Brothers', \"The White Queen (The Cousins' War #1)\", \"The Wedding Pact (The O'Malleys #2)\", 'The Time Keeper', 'The Testament of Mary', 'The Star-Touched Queen', 'The Songs of the Gods', 'The Song of Achilles', 'The Rosie Project (Don Tillman #1)', 'The Power of Habit: Why We Do What We Do in Life and Business', 'The Marriage of Opposites', 'The Lucifer Effect: Understanding How Good People Turn Evil', 'The Long Haul (Diary of a Wimpy Kid #9)', 'The Loney', 'The Literature Book (Big Ideas Simply Explained)', 'The Last Mile (Amos Decker #2)', 'The Immortal Life of Henrietta Lacks', 'The Hidden Oracle (The Trials of Apollo #1)', 'The Help Yourself Cookbook for Kids: 60 Easy Plant-Based Recipes Kids Can Make to Stay Healthy and Save the Earth', 'The Guilty (Will Robie #4)', 'The First Hostage (J.B. Collins #2)', 'The Dovekeepers', 'The Darkest Lie', 'The Bane Chronicles (The Bane Chronicles #1-11)', 'The Bad-Ass Librarians of Timbuktu: And Their Race to Save the Worldâ\\x80\\x99s Most Precious Manuscripts', 'The 14th Colony (Cotton Malone #11)', 'That Darkness (Gardiner and Renner #1)', 'Tastes Like Fear (DI Marnie Rome #3)', 'Take Me with You', 'Swell: A Year of Waves', 'Superman Vol. 1: Before Truth (Superman by Gene Luen Yang #1)', 'Still Life with Bread Crumbs', 'Steve Jobs', 'Sorting the Beef from the Bull: The Science of Food Fraud Forensics', 'Someone Like You (The Harrisons #2)', 'So Cute It Hurts!!, Vol. 6 (So Cute It Hurts!! #6)', 'Shtum', 'See America: A Celebration of Our National Parks & Treasured Sites', 'salt.', 'Robin War', 'Red Hood/Arsenal, Vol. 1: Open for Business (Red Hood/Arsenal #1)', 'Rain Fish', 'Quarter Life Poetry: Poems for the Young, Broke and Hangry', 'Pet Sematary', 'Overload: How to Unplug, Unwind, and Unleash Yourself from the Pressure of Stress', 'Once Was a Time', 'Old School (Diary of a Wimpy Kid #10)', 'No Dream Is Too High: Life Lessons From a Man Who Walked on the Moon', 'Naruto (3-in-1 Edition), Vol. 14: Includes Vols. 40, 41 & 42 (Naruto: Omnibus #14)', 'My Name Is Lucy Barton', 'My Mrs. Brown', 'My Kind of Crazy', 'Mr. Mercedes (Bill Hodges Trilogy #1)', 'More Than Music (Chasing the Dream #1)', 'Made to Stick: Why Some Ideas Survive and Others Die', 'Luis Paints the World', 'Luckiest Girl Alive', 'Lowriders to the Center of the Earth (Lowriders in Space #2)', 'Love Is a Mix Tape (Music #1)', 'Looking for Lovely: Collecting the Moments that Matter', 'Living Leadership by Insight: A Good Leader Achieves, a Great Leader Builds Monuments', 'Let It Out: A Journey Through Journaling', 'Lady Midnight (The Dark Artifices #1)', \"It's All Easy: Healthy, Delicious Weeknight Meals in under 30 Minutes\", 'Island of Dragons (Unwanteds #7)', \"I Know What I'm Doing -- and Other Lies I Tell Myself: Dispatches from a Life Under Construction\", 'I Am Pilgrim (Pilgrim #1)', 'Hyperbole and a Half: Unfortunate Situations, Flawed Coping Mechanisms, Mayhem, and Other Things That Happened', 'Hush, Hush (Hush, Hush #1)', 'Hold Your Breath (Search and Rescue #1)', 'Hamilton: The Revolution', 'Greek Mythic History', 'God: The Most Unpleasant Character in All Fiction', 'Glory over Everything: Beyond The Kitchen House', 'Feathers: Displays of Brilliant Plumage', 'Far & Away: Places on the Brink of Change: Seven Continents, Twenty-Five Years', 'Every Last Word', 'Eligible (The Austen Project #4)', 'El Deafo', 'Eight Hundred Grapes', 'Eaternity: More than 150 Deliciously Easy Vegan Recipes for a Long, Healthy, Satisfied, Joyful Life', 'Eat Fat, Get Thin', \"Don't Get Caught\", 'Doctor Sleep (The Shining #2)', 'Demigods & Magicians: Percy and Annabeth Meet the Kanes (Percy Jackson & Kane Chronicles Crossover #1-3)', 'Dear Mr. Knightley', 'Daily Fantasy Sports', 'Crazy Love: Overwhelmed by a Relentless God', 'Cometh the Hour (The Clifton Chronicles #6)', 'Code Name Verity (Code Name Verity #1)', 'Clockwork Angel (The Infernal Devices #1)', 'City of Glass (The Mortal Instruments #3)', 'City of Fallen Angels (The Mortal Instruments #4)', 'City of Bones (The Mortal Instruments #1)', 'City of Ashes (The Mortal Instruments #2)', 'Cell', 'Catching Jordan (Hundred Oaks)', 'Carry On, Warrior: Thoughts on Life Unarmed', 'Carrie', 'Buying In: The Secret Dialogue Between What We Buy and Who We Are', 'Brain on Fire: My Month of Madness', 'Batman: Europa', 'Barefoot Contessa Back to Basics', \"Barefoot Contessa at Home: Everyday Recipes You'll Make Over and Over Again\", 'Balloon Animals', 'Art Ops Vol. 1', 'Aristotle and Dante Discover the Secrets of the Universe (Aristotle and Dante Discover the Secrets of the Universe #1)', 'Angels Walking (Angels Walking #1)', 'Angels & Demons (Robert Langdon #1)', 'All the Light We Cannot See', 'Adulthood Is a Myth: A \"Sarah\\'s Scribbles\" Collection', 'Abstract City', 'A Time of Torment (Charlie Parker #14)', 'A Study in Scarlet (Sherlock Holmes #1)', 'A Series of Catastrophes and Miracles: A True Story of Love, Science, and Cancer', \"A People's History of the United States\", 'A Man Called Ove', 'A Distant Mirror: The Calamitous 14th Century', 'A Brush of Wings (Angels Walking #3)', '1491: New Revelations of the Americas Before Columbus', 'The Three Searches, Meaning, and the Story', 'Searching for Meaning in Gailana', 'Rook', 'My Kitchen Year: 136 Recipes That Saved My Life', '13 Hours: The Inside Account of What Really Happened In Benghazi', \"Will You Won't You Want Me?\", 'Tipping Point for Planet Earth: How Close Are We to the Edge?', 'The Star-Touched Queen', 'The Silent Sister (Riley MacPherson #1)', 'The Midnight Watch: A Novel of the Titanic and the Californian', 'The Lonely City: Adventures in the Art of Being Alone', 'The Gray Rhino: How to Recognize and Act on the Obvious Dangers We Ignore', 'The Golden Condom: And Other Essays on Love Lost and Found', 'The Epidemic (The Program 0.6)', 'The Dinner Party', 'The Diary of a Young Girl', 'The Children', 'Stars Above (The Lunar Chronicles #4.5)', 'Snatched: How A Drug Queen Went Undercover for the DEA and Was Kidnapped By Colombian Guerillas', 'Raspberry Pi Electronics Projects for the Evil Genius', 'Quench Your Own Thirst: Business Lessons Learned Over a Beer or Two', 'Psycho: Sanitarium (Psycho #1.5)', 'Poisonous (Max Revere Novels #3)', 'One with You (Crossfire #5)', 'No Love Allowed (Dodge Cove #1)', 'Murder at the 42nd Street Library (Raymond Ambler #1)', 'Most Wanted', 'Love, Lies and Spies', 'How to Speak Golf: An Illustrated Guide to Links Lingo', 'Hide Away (Eve Duncan #20)', 'Furiously Happy: A Funny Book About Horrible Things', 'Everyday Italian: 125 Simple and Delicious Recipes', \"Equal Is Unfair: America's Misguided Fight Against Income Inequality\", 'Eleanor & Park', 'Dirty (Dive Bar #1)', 'Can You Keep a Secret? (Fear Street Relaunch #4)', 'Boar Island (Anna Pigeon #19)', 'A Paris Apartment', 'A la Mode: 120 Recipes in 60 Pairings: Pies, Tarts, Cakes, Crisps, and More Topped with Ice Cream, Gelato, Frozen Custard, and More', 'Troublemaker: Surviving Hollywood and Scientology', 'The Widow', 'The Sleep Revolution: Transforming Your Life, One Night at a Time', 'The Improbability of Love', 'The Art of Startup Fundraising', 'Take Me Home Tonight (Rock Star Romance #3)', 'Sleeping Giants (Themis Files #1)', 'Setting the World on Fire: The Brief, Astonishing Life of St. Catherine of Siena', 'Playing with Fire', 'Off the Hook (Fishing for Trouble #1)', 'Mothering Sunday', 'Mother, Can You Not?', 'M Train', 'Lilac Girls', 'Lies and Other Acts of Love', 'Lab Girl', 'Keep Me Posted', \"It Didn't Start with You: How Inherited Family Trauma Shapes Who We Are and How to End the Cycle\", 'Grey (Fifty Shades #4)', 'Exit, Pursued by a Bear', 'Daredevils', 'Cravings: Recipes for What You Want to Eat', 'Born for This: How to Find the Work You Were Meant to Do', 'Arena', 'Adultery', \"A Mother's Reckoning: Living in the Aftermath of Tragedy\", \"A Gentleman's Position (Society of Gentlemen #3)\", '11/22/63', '10% Happier: How I Tamed the Voice in My Head, Reduced Stress Without Losing My Edge, and Found Self-Help That Actually Works', '10-Day Green Smoothie Cleanse: Lose Up to 15 Pounds in 10 Days!', 'Without Shame', 'Watchmen', 'Unlimited Intuition Now', 'Underlying Notes', 'The Shack', 'The New Brand You: Your New Image Makes the Sale for You', 'The Moosewood Cookbook: Recipes from Moosewood Restaurant, Ithaca, New York', 'The Flowers Lied', 'The Fabric of the Cosmos: Space, Time, and the Texture of Reality', 'The Book of Mormon', 'The Art and Science of Low Carbohydrate Living', 'The Alien Club', 'Suzie Snowflake: One beautiful flake (a self-esteem story)', 'Nap-a-Roo', 'NaNo What Now? Finding your editing process, revising your NaNoWriMo book and building a writing career through publishing and beyond', 'Modern Day Fables', \"If I Gave You God's Phone Number....: Searching for Spirituality in America\", 'Fruits Basket, Vol. 9 (Fruits Basket #9)', 'Dress Your Family in Corduroy and Denim', \"Don't Forget Steven\", \"Chernobyl 01:23:40: The Incredible True Story of the World's Worst Nuclear Disaster\", 'Art and Fear: Observations on the Perils (and Rewards) of Artmaking', 'A Shard of Ice (The Black Symphony Saga #1)', \"A Hero's Curse (The Unseen Chronicles #1)\", '23 Degrees South: A Tropical Tale of Changing Whether...', 'Zero to One: Notes on Startups, or How to Build the Future', 'Why Not Me?', 'When Breath Becomes Air', 'Vagabonding: An Uncommon Guide to the Art of Long-Term World Travel', 'The Unlikely Pilgrimage of Harold Fry (Harold Fry #1)', 'The New Drawing on the Right Side of the Brain', \"The Midnight Assassin: Panic, Scandal, and the Hunt for America's First Serial Killer\", 'The Martian (The Martian #1)', 'The High Mountains of Portugal', 'The Grownup', \"The E-Myth Revisited: Why Most Small Businesses Don't Work and What to Do About It\", 'South of Sunshine', 'Smarter Faster Better: The Secrets of Being Productive in Life and Business', 'Silence in the Dark (Logan Point #4)', 'Shadows of the Past (Logan Point #1)', 'Roller Girl', 'Rising Strong', 'Proofs of God: Classical Arguments from Tertullian to Barth', 'Please Kill Me: The Uncensored Oral History of Punk', 'Out of Print: City Lights Spotlight No. 14', 'My Life Next Door (My Life Next Door )', \"Miller's Valley\", \"Man's Search for Meaning\", \"Love That Boy: What Two Presidents, Eight Road Trips, and My Son Taught Me About a Parent's Expectations\", 'Living Forward: A Proven Plan to Stop Drifting and Get the Life You Want', 'Les Fleurs du Mal', 'Left Behind (Left Behind #1)', \"Kill 'Em and Leave: Searching for James Brown and the American Soul\", 'Kierkegaard: A Christian Missionary to Christians', 'John Vassos: Industrial Design for Modern Life', \"I'll Give You the Sun\", 'I Will Find You', 'Hystopia: A Novel', 'Howl and Other Poems', 'History of Beauty', \"Heaven is for Real: A Little Boy's Astounding Story of His Trip to Heaven and Back\", 'Future Shock (Future Shock #1)', \"Ender's Game (The Ender Quintet #1)\", 'Diary of a Citizen Scientist: Chasing Tiger Beetles and Other New Ways of Engaging the World', 'Death by Leisure: A Cautionary Tale', 'Brilliant Beacons: A History of the American Lighthouse', \"Brazen: The Courage to Find the You That's Been Hiding\", 'Between the World and Me', 'Being Mortal: Medicine and What Matters in the End', 'A Murder Over a Girl: Justice, Gender, Junior High', '32 Yolks', '\"Most Blessed of the Patriarchs\": Thomas Jefferson and the Empire of the Imagination', 'You Are a Badass: How to Stop Doubting Your Greatness and Start Living an Awesome Life', 'Wildlife of New York: A Five-Borough Coloring Book', 'What Happened on Beale Street (Secrets of the South Mysteries #2)', 'Unreasonable Hope: Finding Faith in the God Who Brings Purpose to Your Pain', 'Under the Tuscan Sun', \"Toddlers Are A**holes: It's Not Your Fault\", \"The Year of Living Biblically: One Man's Humble Quest to Follow the Bible as Literally as Possible\", 'The Whale', 'The Story of Art', 'The Origin of Species', 'The Great Gatsby', 'The Good Girl', 'The Glass Castle', \"The Faith of Christopher Hitchens: The Restless Soul of the World's Most Notorious Atheist\", 'The Drowning Girls', 'The Constant Princess (The Tudor Court #1)', 'The Bourne Identity (Jason Bourne #1)', \"The Bachelor Girl's Guide to Murder (Herringford and Watts Mysteries #1)\", 'The Art Book', 'The 7 Habits of Highly Effective People: Powerful Lessons in Personal Change', 'Team of Rivals: The Political Genius of Abraham Lincoln', 'Steal Like an Artist: 10 Things Nobody Told You About Being Creative', 'Sit, Stay, Love', 'Sister Dear', 'Shrunken Treasures: Literary Classics, Short, Sweet, and Silly', 'Rich Dad, Poor Dad', 'Raymie Nightingale', 'Playing from the Heart', 'Nightstruck: A Novel', 'Naturally Lean: 125 Nourishing Gluten-Free, Plant-Based Recipes--All Under 300 Calories', 'Meternity', 'Memoirs of a Geisha', 'Like Never Before (Walker Family #2)', 'Life of Pi', 'Leave This Song Behind: Teen Poetry at Its Best', \"King's Folly (The Kinsman Chronicles #1)\", 'John Adams', 'How to Cook Everything Vegetarian: Simple Meatless Recipes for Great Food (How to Cook Everything)', 'How to Be a Domestic Goddess: Baking and the Art of Comfort Cooking', 'Good in Bed (Cannie Shapiro #1)', 'Fruits Basket, Vol. 7 (Fruits Basket #7)', 'For the Love: Fighting for Grace in a World of Impossible Standards', 'Finding God in the Ruins: How God Redeems Pain', 'Every Heart a Doorway (Every Heart A Doorway #1)', 'Delivering the Truth (Quaker Midwife Mystery #1)', 'Counted With the Stars (Out from Egypt #1)', 'Chronicles, Vol. 1', 'Blue Like Jazz: Nonreligious Thoughts on Christian Spirituality', 'Benjamin Franklin: An American Life', 'At The Existentialist CafÃ©: Freedom, Being, and apricot cocktails with: Jean-Paul Sartre, Simone de Beauvoir, Albert Camus, Martin Heidegger, Edmund Husserl, Karl Jaspers, Maurice Merleau-Ponty and others', 'A Summer In Europe', 'A Short History of Nearly Everything', 'A Gathering of Shadows (Shades of Magic #2)', 'The Sound Of Love', 'The Rise and Fall of the Third Reich: A History of Nazi Germany', 'The Perks of Being a Wallflower', 'The Mysterious Affair at Styles (Hercule Poirot #1)', 'The Man Who Mistook His Wife for a Hat and Other Clinical Tales', 'The Makings of a Fatherless Child', 'The Joy of Cooking', 'The Invention of Wings', 'The Hobbit (Middle-Earth Universe)', 'The Great Railway Bazaar', 'The Golden Compass (His Dark Materials #1)', 'The God Delusion', 'The Girl You Left Behind (The Girl You Left Behind #1)', 'The Fellowship of the Ring (The Lord of the Rings #1)', 'The Collected Poems of W.B. Yeats (The Collected Works of W.B. Yeats #1)', 'The Barefoot Contessa Cookbook', \"Tell the Wolves I'm Home\", 'Ship Leaves Harbor: Essays on Travel by a Recovering Journeyman', 'Pride and Prejudice', 'Musicophilia: Tales of Music and the Brain', 'Mere Christianity', 'Me Before You (Me Before You #1)', 'In the Woods (Dublin Murder Squad #1)', 'In Cold Blood', 'How to Stop Worrying and Start Living', 'Give It Back', 'Girl, Interrupted', 'Fun Home: A Family Tragicomic', 'Fruits Basket, Vol. 6 (Fruits Basket #6)', 'Deception Point', 'Death Note, Vol. 6: Give-and-Take (Death Note #6)', 'Catherine the Great: Portrait of a Woman', 'Better Homes and Gardens New Cook Book', 'An Unquiet Mind: A Memoir of Moods and Madness', 'A Year in Provence (Provence #1)', 'World Without End (The Pillars of the Earth #2)', 'Will Grayson, Will Grayson (Will Grayson, Will Grayson)', 'Why Save the Bankers?: And Other Essays on Our Economic and Political Crisis', 'Where She Went (If I Stay #2)', 'What If?: Serious Scientific Answers to Absurd Hypothetical Questions', 'Two Summers', 'This Is Your Brain on Music: The Science of a Human Obsession', 'The Secret Garden', 'The Raven King (The Raven Cycle #4)', 'The Raven Boys (The Raven Cycle #1)', 'The Power Greens Cookbook: 140 Delicious Superfood Recipes', 'The Metamorphosis', \"The Mathews Men: Seven Brothers and the War Against Hitler's U-boats\", 'The Little Paris Bookshop', 'The Hiding Place', 'The Grand Design', 'The Firm', 'The Fault in Our Stars', 'The False Prince (The Ascendance Trilogy #1)', 'The Expatriates', 'The Dream Thieves (The Raven Cycle #2)', 'The Darkest Corners', 'The Crossover', 'The 5th Wave (The 5th Wave #1)', 'Tell the Wind and Fire', 'Tell Me Three Things', \"Talking to Girls About Duran Duran: One Young Man's Quest for True Love and a Cooler Haircut\", 'Siddhartha', 'Shiver (The Wolves of Mercy Falls #1)', 'Remember Me?', 'Red Dragon (Hannibal Lecter #1)', 'Peak: Secrets from the New Science of Expertise', 'My Mother Was Nuts', 'Mexican Today: New and Rediscovered Recipes for Contemporary Kitchens', 'Maybe Something Beautiful: How Art Transformed a Neighborhood', 'Lola and the Boy Next Door (Anna and the French Kiss #2)', 'Logan Kade (Fallen Crest High #5.5)', 'Last One Home (New Beginnings #1)', 'Killing Floor (Jack Reacher #1)', 'Kill the Boy Band', 'Isla and the Happily Ever After (Anna and the French Kiss #3)', 'If I Stay (If I Stay #1)', \"I Know Why the Caged Bird Sings (Maya Angelou's Autobiography #1)\", 'Harry Potter and the Deathly Hallows (Harry Potter #7)', 'Fruits Basket, Vol. 5 (Fruits Basket #5)', 'Foundation (Foundation (Publication Order) #1)', 'Fool Me Once', 'Find Her (Detective D.D. Warren #8)', 'Evicted: Poverty and Profit in the American City', 'Drama', 'Dracula the Un-Dead', 'Digital Fortress', 'Death Note, Vol. 5: Whiteout (Death Note #5)', 'Data, A Love Story: How I Gamed Online Dating to Meet My Match', 'Critique of Pure Reason', 'Booked', 'Blue Lily, Lily Blue (The Raven Cycle #3)', 'Approval Junkie: Adventures in Caring Too Much', 'An Abundance of Katherines', \"America's War for the Greater Middle East: A Military History\", 'Alight (The Generations Trilogy #2)', \"A Girl's Guide to Moving On (New Beginnings #2)\", 'A Game of Thrones (A Song of Ice and Fire #1)', 'A Feast for Crows (A Song of Ice and Fire #4)', 'A Clash of Kings (A Song of Ice and Fire #2)', 'Vogue Colors A to Z: A Fashion Coloring Book', 'The Shining (The Shining #1)', \"The Pilgrim's Progress\", 'The Perfect Play (Play by Play #1)', 'The Passion of Dolssa', 'The Jazz of Physics: The Secret Link Between Music and the Structure of the Universe', 'The Hunger Games (The Hunger Games #1)', 'The Hound of the Baskervilles (Sherlock Holmes #5)', 'The Gunning of America: Business and the Making of American Gun Culture', \"The Geography of Bliss: One Grump's Search for the Happiest Places in the World\", 'The Demonists (Demonist #1)', 'The Demon Prince of Momochi House, Vol. 4 (The Demon Prince of Momochi House #4)', 'The Bone Hunters (Lexy Vaughan & Steven Macaulay #2)', 'The Beast (Black Dagger Brotherhood #14)', 'Some Women', 'Shopaholic Ties the Knot (Shopaholic #3)', 'Paper and Fire (The Great Library #2)', 'Outlander (Outlander #1)', 'Orchestra of Exiles: The Story of Bronislaw Huberman, the Israel Philharmonic, and the One Thousand Jews He Saved from Nazi Horrors', 'No One Here Gets Out Alive', 'Night Shift (Night Shift #1-20)', 'Needful Things', 'Mockingjay (The Hunger Games #3)', 'Misery', 'Little Women (Little Women #1)', 'It', \"Harry Potter and the Sorcerer's Stone (Harry Potter #1)\", 'Harry Potter and the Prisoner of Azkaban (Harry Potter #3)', 'Harry Potter and the Order of the Phoenix (Harry Potter #5)', 'Harry Potter and the Half-Blood Prince (Harry Potter #6)', 'Harry Potter and the Chamber of Secrets (Harry Potter #2)', 'Gone with the Wind', 'God Is Not Great: How Religion Poisons Everything', 'Girl With a Pearl Earring', 'Fruits Basket, Vol. 4 (Fruits Basket #4)', 'Far From True (Promise Falls Trilogy #2)', 'Dark Lover (Black Dagger Brotherhood #1)', 'Confessions of a Shopaholic (Shopaholic #1)', 'Changing the Game (Play by Play #2)', 'Candide', 'Can You Keep a Secret?', 'Atlas Shrugged', 'Animal Farm', 'A Walk to Remember', \"A New Earth: Awakening to Your Life's Purpose\", 'A History of God: The 4,000-Year Quest of Judaism, Christianity, and Islam', \"'Salem's Lot\", 'Zero History (Blue Ant #3)', 'Wuthering Heights', 'World War Z: An Oral History of the Zombie War', 'Wild: From Lost to Found on the Pacific Crest Trail', \"Where'd You Go, Bernadette\", 'When You Are Engulfed in Flames', \"We the People: The Modern-Day Figures Who Have Reshaped and Affirmed the Founding Fathers' Vision of America\", 'We Are All Completely Beside Ourselves', 'Walk the Edge (Thunder Road #2)', 'Voyager (Outlander #3)', 'Very Good Lives: The Fringe Benefits of Failure and the Importance of Imagination', 'Vegan Vegetarian Omnivore: Dinner for Everyone at the Table', 'Unstuffed: Decluttering Your Home, Mind, and Soul', 'Under the Banner of Heaven: A Story of Violent Faith', 'Two Boys Kissing', 'Twilight (Twilight #1)', 'Twenties Girl', \"Trespassing Across America: One Man's Epic, Never-Done-Before (and Sort of Illegal) Hike Across the Heartland\", 'Three-Martini Lunch', 'Thinking, Fast and Slow', 'The Wild Robot', 'The Wicked + The Divine, Vol. 3: Commercial Suicide (The Wicked + The Divine)', 'The Undomestic Goddess', 'The Travelers', 'The Tipping Point: How Little Things Can Make a Big Difference', 'The Thing About Jellyfish', 'The Stand', 'The Smitten Kitchen Cookbook', 'The Silkworm (Cormoran Strike #2)', 'The Sandman, Vol. 3: Dream Country (The Sandman (volumes) #3)', 'The Rose & the Dagger (The Wrath and the Dawn #2)', 'The Road to Little Dribbling: Adventures of an American in Britain (Notes From a Small Island #2)', 'The Rise of Theodore Roosevelt (Theodore Roosevelt #1)', \"The Restaurant at the End of the Universe (Hitchhiker's Guide to the Galaxy #2)\", 'The Rest Is Noise: Listening to the Twentieth Century', 'The Red Tent', 'The Purpose Driven Life: What on Earth Am I Here for?', 'The Purest Hook (Second Circle Tattoos #3)', 'The Picture of Dorian Gray', 'The Paris Wife', 'The Obsession', 'The Nightingale', 'The New Guy (and Other Senior Year Distractions)', 'The Nanny Diaries (Nanny #1)', 'The Name of God is Mercy', 'The Maze Runner (The Maze Runner #1)', \"The Lover's Dictionary\", 'The Lonely Ones', \"The Lean Startup: How Today's Entrepreneurs Use Continuous Innovation to Create Radically Successful Businesses\", 'The Last Painting of Sara de Vos', 'The Land of 10,000 Madonnas', 'The Infinities', \"The Husband's Secret\", \"The Hitchhiker's Guide to the Galaxy (Hitchhiker's Guide to the Galaxy #1)\", 'The Guns of August', 'The Guernsey Literary and Potato Peel Pie Society', 'The Goldfinch', 'The Giver (The Giver Quartet #1)', 'The Girl with All the Gifts', 'The Girl Who Played with Fire (Millennium Trilogy #2)', \"The Girl Who Kicked the Hornet's Nest (Millennium Trilogy #3)\", 'The Exiled', 'The End of Faith: Religion, Terror, and the Future of Reason', 'The Elegant Universe: Superstrings, Hidden Dimensions, and the Quest for the Ultimate Theory', 'The Disappearing Spoon: And Other True Tales of Madness, Love, and the History of the World from the Periodic Table of the Elements', 'The Devil Wears Prada (The Devil Wears Prada #1)', 'The Demon-Haunted World: Science as a Candle in the Dark', 'The Day the Crayons Came Home (Crayons)', 'The Da Vinci Code (Robert Langdon #2)', \"The Cuckoo's Calling (Cormoran Strike #1)\", 'The Complete Stories and Poems (The Works of Edgar Allan Poe [Cameo Edition])', 'The Complete Poems', 'The Catcher in the Rye', 'The Cat in the Hat (Beginner Books B-1)', 'The Case for Christ (Cases for Christianity)', 'The Book Thief', 'The Book of Basketball: The NBA According to The Sports Guy', 'The Blind Side: Evolution of a Game', 'The Autobiography of Malcolm X', 'The Art of Simple Food: Notes, Lessons, and Recipes from a Delicious Revolution', 'The Art of Fielding', \"Surely You're Joking, Mr. Feynman!: Adventures of a Curious Character\", 'Stiff: The Curious Lives of Human Cadavers', 'Spilled Milk: Based on a True Story', 'Something Borrowed (Darcy & Rachel #1)', 'Something Blue (Darcy & Rachel #2)', 'Soldier (Talon #3)', 'Shopaholic & Baby (Shopaholic #5)', 'Seven Days in the Art World', 'Seven Brief Lessons on Physics', 'Scarlet (The Lunar Chronicles #2)', \"Sarah's Key\", 'Saga, Volume 3 (Saga (Collected Editions) #3)', 'Running with Scissors', 'Rogue Lawyer (Rogue Lawyer #1)', 'Rise of the Rocket Girls: The Women Who Propelled Us, from Missiles to the Moon to Mars', 'Rework', 'Reservations for Two', 'Red: The True Story of Red Riding Hood', 'Ready Player One', \"Quiet: The Power of Introverts in a World That Can't Stop Talking\", 'Prodigy: The Graphic Novel (Legend: The Graphic Novel #2)', 'Persepolis: The Story of a Childhood (Persepolis #1-2)', 'Packing for Mars: The Curious Science of Life in the Void', 'Outliers: The Story of Success', 'Original Fake', 'Orange Is the New Black', 'One for the Money (Stephanie Plum #1)', 'Notes from a Small Island (Notes From a Small Island #1)', 'Night (The Night Trilogy #1)', 'Neither Here nor There: Travels in Europe', 'Naked', 'Morning Star (Red Rising #3)', 'Miracles from Heaven: A Little Girl, Her Journey to Heaven, and Her Amazing Story of Healing', 'Midnight Riot (Peter Grant/ Rivers of London - books #1)', 'Me Talk Pretty One Day', 'Manuscript Found in Accra', 'Lust & Wonder', 'Lila (Gilead #3)', \"Life, the Universe and Everything (Hitchhiker's Guide to the Galaxy #3)\", 'Life Without a Recipe', 'Life After Life', 'Letter to a Christian Nation', \"Let's Pretend This Never Happened: A Mostly True Memoir\", 'Legend (Legend #1)', 'Lean In: Women, Work, and the Will to Lead', \"Lamb: The Gospel According to Biff, Christ's Childhood Pal\", 'Lady Renegades (Rebel Belle #3)', 'Jurassic Park (Jurassic Park #1)', \"It's Never Too Late to Begin Again: Discovering Creativity and Meaning at Midlife and Beyond\", 'Is Everyone Hanging Out Without Me? (And Other Concerns)', 'Into the Wild', 'Inferno (Robert Langdon #4)', \"In the Garden of Beasts: Love, Terror, and an American Family in Hitler's Berlin\", 'If I Run (If I Run #1)', \"I've Got Your Number\", 'I Am Malala: The Girl Who Stood Up for Education and Was Shot by the Taliban', 'Hungry Girl Clean & Hungry: Easy All-Natural Recipes for Healthy Eating in the Real World', 'House of Lost Worlds: Dinosaurs, Dynasties, and the Story of Life on Earth', 'House of Leaves', 'Horrible Bear!', 'Holidays on Ice', 'Heir to the Sky', 'Green Eggs and Ham (Beginner Books B-16)', 'Grayson, Vol 3: Nemesis (Grayson #3)', 'Gratitude', 'Gone Girl', 'Golden (Heart of Dread #3)', 'Girl in the Blue Coat', 'Fruits Basket, Vol. 3 (Fruits Basket #3)', 'Friday Night Lights: A Town, a Team, and a Dream', 'Fire Bound (Sea Haven/Sisters of the Heart #5)', 'Fifty Shades Freed (Fifty Shades #3)', 'Fellside', 'Extreme Prey (Lucas Davenport #26)', 'Eragon (The Inheritance Cycle #1)', 'Eclipse (Twilight #3)', 'Dune (Dune #1)', 'Dracula', 'Do Androids Dream of Electric Sheep? (Blade Runner #1)', 'Disrupted: My Misadventure in the Start-Up Bubble', 'Dead Wake: The Last Crossing of the Lusitania', 'David and Goliath: Underdogs, Misfits, and the Art of Battling Giants', 'Darkfever (Fever #1)', 'Dark Places', 'Crazy Rich Asians (Crazy Rich Asians #1)', 'Counting Thyme', 'Cosmos', 'Civilization and Its Discontents', 'Cinder (The Lunar Chronicles #1)', \"Catastrophic Happiness: Finding Joy in Childhood's Messy Years\", 'Career of Evil (Cormoran Strike #3)', 'Breaking Dawn (Twilight #4)', 'Brave Enough', 'Boy Meets Boy', 'Born to Run: A Hidden Tribe, Superathletes, and the Greatest Race the World Has Never Seen', 'Blink: The Power of Thinking Without Thinking', 'Black Flags: The Rise of ISIS', 'Black Butler, Vol. 1 (Black Butler #1)', 'Big Little Lies', 'Between Shades of Gray', \"Best of My Love (Fool's Gold #20)\", 'Beowulf', 'Beautiful Creatures (Caster Chronicles #1)', 'Awkward', 'Ash', 'Are We There Yet?', 'Are We Smart Enough to Know How Smart Animals Are?', 'Annie on My Mind', 'And Then There Were None', 'A Walk in the Woods: Rediscovering America on the Appalachian Trail', 'A Visit from the Goon Squad', 'A Storm of Swords (A Song of Ice and Fire #3)', 'A Heartbreaking Work of Staggering Genius', '8 Keys to Mental Health Through Exercise', '#GIRLBOSS', 'The Suffragettes (Little Black Classics, #96)', 'The Sense of an Ending', \"The Sandman, Vol. 2: The Doll's House (The Sandman (volumes) #2)\", 'The Course of Love', 'Sugar Rush (Offensive Line #2)', 'Saga, Volume 2 (Saga (Collected Editions) #2)', 'Run, Spot, Run: The Ethics of Keeping Pets', 'New Moon (Twilight #2)', 'Life', \"Kindle Paperwhite User's Guide\", 'H is for Hawk', 'Girl Online On Tour (Girl Online #2)', 'Fruits Basket, Vol. 2 (Fruits Basket #2)', 'Diary of a Minecraft Zombie Book 1: A Scare of a Dare (An Unofficial Minecraft Book)', 'Y: The Last Man, Vol. 1: Unmanned (Y: The Last Man #1)', 'While You Were Mine', 'Where Lightning Strikes (Bleeding Stars #3)', \"When I'm Gone\", 'Ways of Seeing', 'Vampire Knight, Vol. 1 (Vampire Knight #1)', 'Vampire Girl (Vampire Girl #1)', 'Twenty Love Poems and a Song of Despair', 'Travels with Charley: In Search of America', 'Three Wishes (River of Time: California #1)', 'This One Moment (Pushing Limits #1)', 'The Zombie Room', 'The Wicked + The Divine, Vol. 1: The Faust Act (The Wicked + The Divine)', 'The Tumor', 'The Story of Hong Gildong', 'The Silent Wife', 'The Silent Twin (Detective Jennifer Knight #3)', 'The Selfish Gene', 'The Secret Healer', 'The Sandman, Vol. 1: Preludes and Nocturnes (The Sandman (volumes) #1)', 'The Republic', 'The Odyssey', \"The No. 1 Ladies' Detective Agency (No. 1 Ladies' Detective Agency #1)\", 'The Nicomachean Ethics', 'The Name of the Wind (The Kingkiller Chronicle #1)', 'The Mirror & the Maze (The Wrath and the Dawn #1.5)', 'The Little Prince', 'The Light of the Fireflies', 'The Last Girl (The Dominion Trilogy #1)', 'The Iliad', 'The Hook Up (Game On #1)', 'The Haters', 'The Girl You Lost', 'The Girl In The Ice (DCI Erika Foster #1)', 'The End of the Jesus Era (An Investigation #1)', 'The Edge of Reason (Bridget Jones #2)', 'The Complete Maus (Maus #1-2)', 'The Communist Manifesto', 'The Bhagavad Gita', 'The Bette Davis Club', 'The Art of Not Breathing', 'Taking Shots (Assassins #1)', 'Starlark', 'Skip Beat!, Vol. 01 (Skip Beat! #1)', 'Sister Sable (The Mad Queen #1)', 'Shatter Me (Shatter Me #1)', 'Shameless', 'Shadow Rites (Jane Yellowrock #10)', 'Settling the Score (The Summer Games #1)', 'Sense and Sensibility', 'Saga, Volume 1 (Saga (Collected Editions) #1)', 'Rhythm, Chord & Malykhin', 'Rat Queens, Vol. 1: Sass & Sorcery (Rat Queens (Collected Editions) #1-5)', 'Paradise Lost (Paradise #1)', 'Paper Girls, Vol. 1 (Paper Girls #1-5)', 'Ouran High School Host Club, Vol. 1 (Ouran High School Host Club #1)', 'Origins (Alphas 0.5)', 'One Second (Seven #7)', 'On the Road (Duluoz Legend)', \"Old Records Never Die: One Man's Quest for His Vinyl and His Past\", 'Off Sides (Off #1)', 'Of Mice and Men', 'Myriad (Prentor #1)', 'My Perfect Mistake (Over the Top #1)', 'Ms. Marvel, Vol. 1: No Normal (Ms. Marvel (2014-2015) #1)', 'Meditations', 'Matilda', 'Lost Among the Living', 'Lord of the Flies', 'Listen to Me (Fusion #1)', 'Kitchens of the Great Midwest', 'Jane Eyre', 'Imperfect Harmony', 'Icing (Aces Hockey #2)', 'Hawkeye, Vol. 1: My Life as a Weapon (Hawkeye #1)', \"Having the Barbarian's Baby (Ice Planet Barbarians #7.5)\", 'Giant Days, Vol. 1 (Giant Days #1-4)', 'Fruits Basket, Vol. 1 (Fruits Basket #1)', 'Frankenstein', 'Forever Rockers (The Rocker #12)', 'Fighting Fate (Fighting #6)', 'Emma', 'Eat, Pray, Love', 'Deep Under (Walker Security #1)', \"Choosing Our Religion: The Spiritual Lives of America's Nones\", 'Charlie and the Chocolate Factory (Charlie Bucket #1)', \"Charity's Cross (Charles Towne Belles #4)\", 'Bright Lines', \"Bridget Jones's Diary (Bridget Jones #1)\", 'Bounty (Colorado Mountain #7)', 'Blood Defense (Samantha Brinkman #1)', 'Bleach, Vol. 1: Strawberry and the Soul Reapers (Bleach #1)', 'Beyond Good and Evil', \"Alice in Wonderland (Alice's Adventures in Wonderland #1)\", 'Ajin: Demi-Human, Volume 1 (Ajin: Demi-Human #1)', \"A Spy's Devotion (The Regency Spies of London #1)\", \"1st to Die (Women's Murder Club #1)\", '1,000 Places to See Before You Die']\n",
      "Calificaciones: [3, 1, 1, 4, 5, 1, 4, 3, 4, 1, 2, 4, 5, 5, 5, 3, 1, 1, 2, 2, 1, 2, 3, 5, 5, 3, 3, 3, 5, 4, 5, 3, 5, 1, 5, 3, 2, 1, 4, 2, 3, 2, 5, 5, 2, 1, 5, 4, 4, 3, 1, 1, 3, 4, 5, 1, 1, 1, 4, 3, 4, 3, 4, 4, 3, 5, 1, 1, 4, 3, 3, 1, 5, 4, 2, 2, 3, 2, 2, 3, 5, 5, 1, 2, 3, 4, 1, 1, 3, 2, 2, 2, 4, 2, 3, 2, 1, 2, 5, 4, 5, 2, 3, 1, 1, 2, 3, 4, 1, 2, 2, 4, 3, 4, 4, 5, 3, 2, 2, 2, 1, 1, 5, 1, 5, 4, 1, 5, 4, 4, 2, 3, 3, 1, 1, 4, 1, 4, 5, 4, 1, 4, 5, 2, 1, 2, 2, 5, 4, 3, 1, 2, 1, 4, 1, 1, 2, 1, 2, 1, 3, 5, 5, 2, 3, 2, 4, 2, 2, 2, 3, 1, 5, 1, 5, 1, 4, 1, 1, 5, 5, 1, 2, 3, 5, 2, 4, 1, 2, 4, 5, 1, 1, 5, 4, 4, 4, 5, 3, 3, 5, 3, 4, 2, 3, 2, 2, 2, 5, 2, 4, 3, 1, 5, 5, 3, 5, 4, 2, 4, 4, 2, 1, 5, 4, 2, 2, 2, 2, 2, 2, 4, 5, 3, 5, 4, 5, 5, 5, 1, 3, 4, 1, 1, 1, 3, 2, 2, 2, 3, 2, 3, 1, 5, 4, 1, 1, 1, 1, 3, 1, 5, 3, 5, 4, 5, 4, 4, 3, 4, 3, 2, 3, 5, 3, 3, 2, 5, 2, 2, 1, 3, 1, 1, 2, 5, 3, 3, 2, 1, 5, 4, 5, 5, 1, 1, 4, 4, 5, 3, 1, 3, 5, 5, 3, 3, 4, 3, 3, 5, 4, 5, 2, 1, 2, 5, 5, 1, 2, 3, 4, 1, 4, 4, 1, 1, 4, 3, 3, 2, 4, 5, 2, 1, 5, 3, 3, 4, 2, 3, 5, 2, 5, 5, 2, 2, 2, 1, 3, 1, 3, 3, 1, 4, 2, 1, 3, 1, 5, 5, 1, 2, 4, 1, 5, 2, 3, 3, 2, 3, 4, 1, 5, 3, 4, 4, 4, 3, 2, 5, 1, 4, 5, 1, 5, 4, 1, 3, 4, 1, 2, 2, 4, 1, 3, 3, 1, 2, 3, 3, 2, 5, 1, 2, 1, 1, 4, 3, 4, 4, 3, 3, 5, 4, 5, 3, 5, 3, 2, 5, 5, 4, 4, 2, 1, 5, 4, 2, 1, 3, 5, 1, 5, 1, 4, 2, 1, 4, 3, 1, 2, 4, 3, 3, 2, 3, 1, 2, 2, 5, 3, 4, 2, 1, 1, 1, 1, 5, 3, 5, 5, 3, 1, 4, 5, 5, 2, 3, 2, 3, 5, 2, 5, 1, 4, 1, 1, 4, 2, 4, 2, 5, 1, 1, 4, 3, 2, 4, 4, 3, 2, 5, 3, 2, 5, 2, 3, 1, 1, 4, 4, 4, 4, 3, 1, 1, 3, 3, 4, 5, 2, 4, 5, 2, 3, 4, 3, 1, 2, 1, 4, 5, 3, 3, 2, 4, 5, 5, 4, 4, 2, 5, 1, 3, 2, 5, 4, 5, 2, 1, 3, 5, 2, 5, 4, 5, 2, 3, 4, 4, 2, 4, 1, 5, 1, 1, 3, 1, 2, 5, 5, 2, 3, 4, 1, 3, 1, 2, 4, 5, 2, 3, 4, 4, 4, 3, 4, 3, 3, 4, 4, 4, 2, 4, 4, 1, 1, 4, 2, 4, 5, 1, 5, 3, 4, 3, 3, 1, 5, 2, 1, 5, 4, 2, 3, 1, 4, 5, 5, 3, 3, 2, 4, 5, 1, 4, 2, 3, 4, 5, 5, 5, 2, 1, 1, 1, 1, 1, 1, 2, 5, 5, 1, 3, 1, 5, 5, 5, 5, 2, 4, 1, 2, 4, 3, 4, 3, 2, 3, 5, 3, 5, 2, 4, 2, 2, 2, 3, 5, 5, 5, 5, 5, 3, 5, 4, 4, 4, 2, 4, 3, 3, 4, 4, 5, 1, 3, 1, 1, 4, 2, 1, 2, 3, 3, 1, 5, 3, 1, 5, 1, 4, 1, 3, 1, 3, 1, 5, 3, 1, 3, 5, 3, 2, 1, 1, 2, 2, 2, 1, 3, 1, 3, 3, 4, 1, 2, 1, 2, 1, 5, 5, 4, 1, 3, 1, 1, 5, 3, 1, 2, 3, 1, 4, 3, 5, 2, 1, 2, 5, 3, 2, 4, 1, 5, 3, 2, 1, 3, 1, 3, 2, 1, 3, 4, 4, 5, 1, 4, 5, 2, 1, 4, 5, 1, 2, 1, 2, 5, 5, 2, 3, 1, 2, 3, 1, 5, 1, 2, 2, 2, 4, 4, 1, 5, 4, 3, 4, 2, 3, 3, 4, 1, 3, 1, 2, 1, 3, 2, 2, 1, 1, 3, 3, 1, 1, 2, 2, 2, 2, 3, 2, 5, 2, 1, 1, 4, 1, 5, 5, 1, 1, 3, 5, 5, 3, 4, 1, 2, 3, 2, 1, 2, 2, 4, 4, 1, 5, 5, 4, 2, 2, 3, 4, 5, 1, 3, 3, 1, 1, 3, 1, 5, 5, 1, 1, 5, 5, 1, 2, 2, 1, 2, 2, 5, 5, 3, 2, 5, 1, 1, 1, 5, 2, 2, 5, 2, 4, 3, 1, 5, 2, 4, 5, 2, 5, 1, 1, 2, 3, 1, 3, 1, 3, 1, 4, 5, 3, 5, 1, 5, 4, 4, 5, 3, 3, 5, 1, 2, 4, 5, 2, 1, 5, 2, 5, 4, 5, 3, 1, 3, 3, 3, 3, 4, 1, 3, 1, 2, 1, 2, 1, 5, 5, 5, 3, 1, 4, 3, 3, 3, 3, 4, 2, 3, 3, 3, 1, 3, 4, 2, 1, 1, 2, 5, 1, 4, 3, 1, 2, 3, 2, 5, 2, 4, 2, 4, 2, 1, 4, 3, 3, 5, 5, 4, 4, 3, 4, 4, 5, 2, 3, 3, 2, 3, 5, 4, 3, 1, 5, 1, 4, 3, 5, 1, 1, 4, 5, 1, 5]\n",
      "Precios: [51.77, 53.74, 50.1, 47.82, 54.23, 22.65, 33.34, 17.93, 22.6, 52.15, 13.99, 20.66, 17.46, 52.29, 35.02, 57.25, 23.88, 37.59, 51.33, 45.17, 12.84, 37.32, 30.52, 25.27, 34.53, 54.64, 22.5, 53.13, 40.3, 44.18, 17.66, 31.05, 23.82, 36.89, 15.94, 33.29, 18.02, 19.63, 52.22, 33.63, 57.31, 26.41, 47.61, 23.11, 45.07, 31.77, 50.27, 14.27, 44.18, 18.78, 25.52, 16.28, 31.12, 19.49, 17.27, 19.09, 56.13, 56.41, 56.5, 45.22, 38.16, 54.11, 42.96, 23.89, 16.77, 20.59, 37.13, 56.06, 58.11, 49.05, 40.76, 19.73, 32.24, 41.83, 39.58, 39.25, 25.02, 51.04, 19.83, 50.4, 13.61, 13.34, 18.97, 36.28, 10.16, 15.44, 48.41, 46.35, 14.07, 14.86, 33.37, 56.4, 14.02, 46.91, 45.61, 19.92, 40.11, 53.9, 35.67, 22.0, 57.36, 29.17, 54.63, 46.03, 33.97, 22.11, 29.69, 15.97, 21.96, 54.35, 37.97, 51.99, 43.29, 36.72, 17.08, 29.14, 28.81, 49.46, 37.92, 28.09, 30.81, 42.95, 56.76, 16.64, 55.53, 28.13, 52.37, 54.0, 21.87, 43.3, 21.04, 41.6, 35.07, 59.64, 52.72, 58.08, 24.12, 42.15, 12.61, 17.44, 33.14, 27.37, 51.36, 36.0, 10.65, 43.54, 38.21, 37.34, 44.1, 43.29, 55.85, 37.6, 10.97, 41.82, 36.95, 44.28, 55.02, 17.24, 23.15, 41.25, 32.0, 38.49, 33.34, 10.93, 27.55, 55.99, 16.24, 26.12, 12.23, 23.99, 29.06, 20.27, 43.55, 36.94, 20.47, 41.06, 14.19, 38.28, 41.05, 30.25, 28.26, 10.76, 16.85, 13.47, 48.56, 19.15, 57.36, 42.98, 22.16, 49.43, 29.99, 21.36, 29.0, 53.53, 41.62, 54.59, 34.95, 37.72, 35.61, 42.16, 19.19, 19.43, 49.46, 37.8, 30.8, 27.43, 11.11, 36.5, 15.38, 15.48, 46.82, 18.46, 36.58, 50.54, 12.51, 24.7, 43.61, 37.34, 14.36, 52.65, 38.2, 19.6, 53.9, 12.96, 37.1, 46.31, 45.95, 22.08, 25.38, 27.12, 43.04, 56.8, 25.91, 32.61, 27.88, 52.67, 46.02, 44.48, 37.4, 54.04, 16.88, 28.08, 10.4, 44.07, 23.4, 17.43, 54.21, 40.67, 52.26, 28.77, 13.82, 25.85, 48.78, 35.35, 44.73, 15.77, 39.24, 13.92, 10.69, 45.21, 45.58, 11.89, 26.41, 39.5, 44.74, 52.79, 35.43, 55.84, 48.87, 46.78, 47.82, 25.48, 23.57, 50.89, 10.56, 52.15, 18.28, 11.83, 21.95, 38.39, 41.56, 24.48, 40.36, 28.9, 37.61, 38.85, 53.95, 49.83, 51.51, 18.03, 29.14, 46.91, 26.79, 16.28, 19.55, 29.65, 25.98, 10.6, 14.75, 47.02, 28.82, 58.79, 10.23, 30.03, 45.84, 49.05, 15.06, 46.47, 27.09, 57.62, 14.39, 51.75, 54.07, 55.35, 40.12, 37.51, 11.21, 36.58, 47.72, 25.01, 22.13, 44.14, 56.02, 11.23, 43.28, 47.27, 20.29, 50.83, 31.85, 46.23, 37.8, 49.32, 32.01, 28.01, 50.62, 17.03, 48.8, 58.14, 34.2, 51.48, 29.87, 10.9, 56.37, 48.35, 16.73, 56.48, 40.79, 39.72, 14.58, 55.51, 21.8, 13.33, 38.73, 37.86, 11.53, 27.06, 13.86, 37.55, 32.3, 46.29, 26.2, 33.26, 59.15, 39.43, 14.44, 56.54, 59.9, 11.88, 48.05, 21.21, 49.67, 43.14, 36.97, 26.8, 15.71, 54.65, 54.36, 35.28, 20.55, 58.32, 11.84, 41.46, 20.1, 56.86, 56.51, 40.83, 48.64, 59.48, 39.01, 38.77, 48.39, 27.26, 11.68, 59.45, 21.0, 53.98, 48.74, 21.15, 13.71, 47.67, 13.34, 16.89, 27.18, 17.28, 45.14, 40.85, 20.46, 56.27, 48.49, 51.34, 16.34, 20.5, 21.59, 21.36, 20.88, 19.53, 14.75, 48.48, 24.57, 49.71, 48.27, 58.05, 58.87, 11.82, 28.03, 44.05, 12.34, 16.68, 55.91, 24.57, 52.98, 54.4, 54.81, 25.08, 10.41, 47.44, 20.91, 33.95, 43.68, 33.23, 35.92, 48.63, 56.63, 50.49, 35.79, 34.06, 17.76, 39.36, 36.94, 43.62, 43.02, 28.45, 41.39, 51.15, 35.88, 36.91, 28.93, 38.89, 58.33, 39.67, 14.1, 21.82, 54.21, 31.19, 53.64, 36.39, 58.54, 29.48, 25.06, 12.55, 29.04, 40.72, 45.05, 47.13, 20.22, 56.48, 44.21, 21.96, 40.45, 10.29, 52.86, 55.65, 43.64, 28.41, 37.51, 11.45, 19.22, 56.91, 55.06, 13.2, 53.63, 44.48, 12.08, 22.14, 25.37, 46.33, 37.33, 25.55, 34.72, 35.96, 41.14, 10.01, 36.05, 49.03, 16.24, 39.55, 35.67, 16.62, 42.78, 52.3, 32.34, 33.17, 20.12, 20.9, 20.9, 40.2, 52.87, 51.74, 34.41, 32.38, 50.35, 11.38, 43.58, 49.67, 28.77, 13.22, 51.17, 39.61, 57.43, 46.01, 28.25, 37.05, 19.57, 45.13, 46.64, 12.16, 20.89, 17.97, 52.6, 25.77, 48.19, 29.93, 44.34, 52.4, 44.81, 57.84, 39.67, 55.02, 24.8, 59.45, 31.58, 43.27, 37.34, 17.8, 30.54, 18.77, 46.85, 15.79, 10.27, 15.42, 59.92, 50.96, 30.6, 19.27, 46.58, 48.51, 19.02, 38.38, 49.98, 46.49, 18.32, 42.14, 56.59, 20.96, 40.32, 36.39, 58.55, 39.61, 21.3, 56.88, 32.97, 47.31, 48.67, 41.73, 53.68, 14.64, 38.4, 15.08, 30.57, 57.74, 11.05, 28.58, 42.91, 24.73, 55.91, 13.76, 45.56, 47.22, 56.0, 44.58, 34.5, 11.33, 38.77, 11.83, 45.51, 41.81, 25.15, 34.22, 16.23, 11.48, 23.37, 16.28, 31.63, 24.91, 22.54, 23.63, 13.12, 59.98, 31.49, 15.52, 48.13, 38.13, 36.55, 23.32, 16.33, 32.42, 16.96, 22.37, 42.27, 38.7, 35.63, 58.0, 52.41, 32.35, 20.75, 17.49, 34.13, 58.81, 10.0, 51.22, 58.59, 31.3, 46.42, 17.21, 10.79, 52.35, 27.88, 50.26, 59.99, 28.32, 38.71, 29.85, 14.82, 16.81, 28.23, 52.11, 27.88, 59.71, 46.08, 13.73, 48.39, 49.45, 19.67, 12.36, 20.02, 12.75, 47.51, 20.44, 34.79, 28.07, 25.01, 13.9, 24.17, 31.63, 48.75, 14.74, 32.49, 27.8, 26.77, 50.44, 34.93, 12.87, 48.94, 13.38, 58.63, 21.94, 26.58, 57.22, 56.43, 55.65, 27.62, 49.56, 34.77, 17.73, 21.8, 46.02, 18.13, 30.89, 31.95, 24.04, 32.36, 21.07, 50.66, 13.66, 58.09, 30.0, 32.74, 41.93, 42.8, 53.51, 23.21, 21.14, 56.07, 14.41, 45.75, 15.77, 10.02, 48.77, 57.86, 23.59, 23.05, 55.55, 58.64, 23.21, 42.57, 10.92, 34.77, 35.66, 37.19, 12.25, 29.7, 36.8, 45.43, 26.26, 44.92, 52.53, 37.25, 20.93, 58.09, 43.59, 33.92, 55.55, 29.64, 27.41, 52.51, 47.8, 14.54, 49.53, 43.58, 12.3, 49.47, 22.14, 57.48, 43.45, 22.13, 13.03, 57.35, 44.29, 52.25, 26.33, 22.96, 19.21, 26.78, 41.32, 24.55, 16.26, 47.84, 53.49, 44.84, 53.71, 23.43, 34.32, 22.1, 25.83, 36.74, 49.51, 48.96, 54.62, 24.72, 46.45, 52.33, 30.6, 14.57, 46.29, 21.57, 12.91, 50.11, 41.67, 44.88, 11.1, 28.54, 19.07, 43.55, 43.63, 39.13, 56.68, 14.16, 31.45, 24.61, 32.87, 40.17, 13.51, 38.95, 31.69, 29.4, 57.83, 55.46, 57.6, 34.98, 11.87, 12.47, 33.26, 59.04, 26.13, 22.2, 45.11, 43.69, 25.02, 55.5, 53.04, 44.97, 42.38, 20.11, 56.7, 41.0, 28.85, 49.97, 19.69, 28.88, 33.14, 43.7, 54.89, 37.52, 51.07, 44.07, 10.79, 42.72, 26.66, 37.6, 42.21, 46.83, 45.17, 51.22, 21.28, 15.36, 38.62, 25.4, 43.87, 18.74, 54.86, 52.62, 51.48, 15.28, 39.24, 17.81, 56.02, 23.9, 49.13, 10.62, 36.17, 59.95, 26.09, 37.35, 24.72, 35.28, 51.32, 21.12, 27.35, 21.74, 40.87, 49.31, 22.11, 20.79, 27.41, 38.35, 21.55, 38.02, 22.06, 10.66, 56.58, 36.83, 35.01, 30.48, 14.08, 31.22, 54.29, 31.04, 50.96, 11.89, 31.38, 54.81, 16.78, 24.42, 11.75, 20.02, 12.86, 31.58, 34.0, 57.42, 53.47, 11.64, 52.88, 18.51, 41.32, 39.77, 51.96, 39.51, 15.4, 53.82, 30.95, 57.82, 44.18, 48.71, 19.69, 36.52, 41.56, 43.19, 12.34, 36.25, 29.45, 34.56, 54.12, 33.78, 29.64, 57.7, 36.34, 50.59, 29.38, 45.42, 54.43, 36.26, 16.16, 36.29, 27.89, 12.29, 15.85, 14.4, 19.18, 10.64, 14.76, 57.49, 30.66, 40.83, 18.88, 25.83, 42.12, 13.33, 42.4, 58.35, 21.72, 44.91, 37.46, 28.48, 28.34, 46.96, 24.96, 21.71, 29.87, 28.99, 52.94, 32.36, 55.66, 39.45, 47.11, 58.75, 38.92, 39.39, 25.89, 28.34, 27.7, 24.89, 58.99, 57.2, 38.43, 34.74, 40.44, 45.24, 34.96, 56.76, 40.28, 38.0, 28.8, 39.24, 32.93, 51.32, 47.09, 28.42, 22.85, 41.24, 39.07, 29.82, 37.26, 20.3, 34.65, 43.38, 55.53, 57.06, 16.97, 53.98, 26.08]\n"
     ]
    }
   ],
   "source": [
    "titulos, calificaciones, precios = obtener_datos()\n",
    "print(f'Titulos: {titulos}')\n",
    "print(f'Calificaciones: {calificaciones}')\n",
    "print(f'Precios: {precios}')"
   ]
  },
  {
   "cell_type": "markdown",
   "id": "c93f2087",
   "metadata": {},
   "source": [
    "Por cuestiones de automatizar el codigo y la visualización, se va cargar los datos obtenidos en una función que nos cree un archivo .csv, a continuación:"
   ]
  },
  {
   "cell_type": "code",
   "execution_count": 10,
   "id": "5570bae9",
   "metadata": {},
   "outputs": [],
   "source": [
    "def archivo_csv(titulos, calificaciones, precios):\n",
    "    \"\"\"\n",
    "    Convierte la información obtenida en un archivo de csv\n",
    "\n",
    "    titulos: Lista de titulos de los libros obtenidos\n",
    "    calificaciones: Calificacion de cada libro\n",
    "    precios: Costo de cada libro\n",
    "    \"\"\"\n",
    "    df_libros = pd.DataFrame({'Libro': titulos,\n",
    "                              'Rating': calificaciones,\n",
    "                              'Precio': precios})\n",
    "    df_libros.to_csv('DatosLibros.csv')"
   ]
  },
  {
   "cell_type": "markdown",
   "id": "04262ab1",
   "metadata": {},
   "source": [
    "Para una mejor visualización de la información, los datos obtenidos los emplearemos para crear un dataframe."
   ]
  },
  {
   "cell_type": "code",
   "execution_count": 11,
   "id": "77f7759f",
   "metadata": {},
   "outputs": [],
   "source": [
    "# Creamos el archivo.csv para conservar la información\n",
    "archivo_csv(titulos, calificaciones, precios)\n"
   ]
  },
  {
   "cell_type": "code",
   "execution_count": 2,
   "id": "384195a9",
   "metadata": {},
   "outputs": [
    {
     "data": {
      "text/html": [
       "<div>\n",
       "<style scoped>\n",
       "    .dataframe tbody tr th:only-of-type {\n",
       "        vertical-align: middle;\n",
       "    }\n",
       "\n",
       "    .dataframe tbody tr th {\n",
       "        vertical-align: top;\n",
       "    }\n",
       "\n",
       "    .dataframe thead th {\n",
       "        text-align: right;\n",
       "    }\n",
       "</style>\n",
       "<table border=\"1\" class=\"dataframe\">\n",
       "  <thead>\n",
       "    <tr style=\"text-align: right;\">\n",
       "      <th></th>\n",
       "      <th>Titulo_Libro</th>\n",
       "      <th>#Estrellas</th>\n",
       "      <th>Precio</th>\n",
       "    </tr>\n",
       "    <tr>\n",
       "      <th>ID</th>\n",
       "      <th></th>\n",
       "      <th></th>\n",
       "      <th></th>\n",
       "    </tr>\n",
       "  </thead>\n",
       "  <tbody>\n",
       "    <tr>\n",
       "      <th>0</th>\n",
       "      <td>A Light in the Attic</td>\n",
       "      <td>3</td>\n",
       "      <td>51.77</td>\n",
       "    </tr>\n",
       "    <tr>\n",
       "      <th>1</th>\n",
       "      <td>Tipping the Velvet</td>\n",
       "      <td>1</td>\n",
       "      <td>53.74</td>\n",
       "    </tr>\n",
       "    <tr>\n",
       "      <th>2</th>\n",
       "      <td>Soumission</td>\n",
       "      <td>1</td>\n",
       "      <td>50.10</td>\n",
       "    </tr>\n",
       "    <tr>\n",
       "      <th>3</th>\n",
       "      <td>Sharp Objects</td>\n",
       "      <td>4</td>\n",
       "      <td>47.82</td>\n",
       "    </tr>\n",
       "    <tr>\n",
       "      <th>4</th>\n",
       "      <td>Sapiens: A Brief History of Humankind</td>\n",
       "      <td>5</td>\n",
       "      <td>54.23</td>\n",
       "    </tr>\n",
       "    <tr>\n",
       "      <th>...</th>\n",
       "      <td>...</td>\n",
       "      <td>...</td>\n",
       "      <td>...</td>\n",
       "    </tr>\n",
       "    <tr>\n",
       "      <th>995</th>\n",
       "      <td>Alice in Wonderland (Alice's Adventures in Won...</td>\n",
       "      <td>1</td>\n",
       "      <td>55.53</td>\n",
       "    </tr>\n",
       "    <tr>\n",
       "      <th>996</th>\n",
       "      <td>Ajin: Demi-Human, Volume 1 (Ajin: Demi-Human #1)</td>\n",
       "      <td>4</td>\n",
       "      <td>57.06</td>\n",
       "    </tr>\n",
       "    <tr>\n",
       "      <th>997</th>\n",
       "      <td>A Spy's Devotion (The Regency Spies of London #1)</td>\n",
       "      <td>5</td>\n",
       "      <td>16.97</td>\n",
       "    </tr>\n",
       "    <tr>\n",
       "      <th>998</th>\n",
       "      <td>1st to Die (Women's Murder Club #1)</td>\n",
       "      <td>1</td>\n",
       "      <td>53.98</td>\n",
       "    </tr>\n",
       "    <tr>\n",
       "      <th>999</th>\n",
       "      <td>1,000 Places to See Before You Die</td>\n",
       "      <td>5</td>\n",
       "      <td>26.08</td>\n",
       "    </tr>\n",
       "  </tbody>\n",
       "</table>\n",
       "<p>1000 rows × 3 columns</p>\n",
       "</div>"
      ],
      "text/plain": [
       "                                          Titulo_Libro  #Estrellas  Precio\n",
       "ID                                                                        \n",
       "0                                 A Light in the Attic           3   51.77\n",
       "1                                   Tipping the Velvet           1   53.74\n",
       "2                                           Soumission           1   50.10\n",
       "3                                        Sharp Objects           4   47.82\n",
       "4                Sapiens: A Brief History of Humankind           5   54.23\n",
       "..                                                 ...         ...     ...\n",
       "995  Alice in Wonderland (Alice's Adventures in Won...           1   55.53\n",
       "996   Ajin: Demi-Human, Volume 1 (Ajin: Demi-Human #1)           4   57.06\n",
       "997  A Spy's Devotion (The Regency Spies of London #1)           5   16.97\n",
       "998                1st to Die (Women's Murder Club #1)           1   53.98\n",
       "999                 1,000 Places to See Before You Die           5   26.08\n",
       "\n",
       "[1000 rows x 3 columns]"
      ]
     },
     "execution_count": 2,
     "metadata": {},
     "output_type": "execute_result"
    }
   ],
   "source": [
    "# Cargamos la data obtenida que cargamos en el archivo.csv para automatizar los tiempos.\n",
    "df_libros = pd.read_csv('DatosLibros.csv',skiprows=1, names=['ID', 'Titulo_Libro', '#Estrellas', 'Precio'])\n",
    "df_libros.set_index('ID', inplace=True)\n",
    "df_libros"
   ]
  },
  {
   "cell_type": "code",
   "execution_count": 3,
   "id": "89e7974e",
   "metadata": {},
   "outputs": [
    {
     "name": "stdout",
     "output_type": "stream",
     "text": [
      "<class 'pandas.core.frame.DataFrame'>\n",
      "Index: 1000 entries, 0 to 999\n",
      "Data columns (total 3 columns):\n",
      " #   Column        Non-Null Count  Dtype  \n",
      "---  ------        --------------  -----  \n",
      " 0   Titulo_Libro  1000 non-null   object \n",
      " 1   #Estrellas    1000 non-null   int64  \n",
      " 2   Precio        1000 non-null   float64\n",
      "dtypes: float64(1), int64(1), object(1)\n",
      "memory usage: 31.2+ KB\n"
     ]
    }
   ],
   "source": [
    "# Vamos a verificar la información del tipo de variables que conforman nuestro data set\n",
    "df_libros.info()"
   ]
  },
  {
   "cell_type": "markdown",
   "id": "25569d44",
   "metadata": {},
   "source": [
    "Haremos una tabla que nos suministre la verdadera información del tipo de las variables:"
   ]
  },
  {
   "cell_type": "code",
   "execution_count": 7,
   "id": "f2451889",
   "metadata": {},
   "outputs": [
    {
     "data": {
      "text/html": [
       "<div>\n",
       "<style scoped>\n",
       "    .dataframe tbody tr th:only-of-type {\n",
       "        vertical-align: middle;\n",
       "    }\n",
       "\n",
       "    .dataframe tbody tr th {\n",
       "        vertical-align: top;\n",
       "    }\n",
       "\n",
       "    .dataframe thead th {\n",
       "        text-align: right;\n",
       "    }\n",
       "</style>\n",
       "<table border=\"1\" class=\"dataframe\">\n",
       "  <thead>\n",
       "    <tr style=\"text-align: right;\">\n",
       "      <th></th>\n",
       "      <th>Variable</th>\n",
       "      <th>TipoDeVariable</th>\n",
       "    </tr>\n",
       "  </thead>\n",
       "  <tbody>\n",
       "    <tr>\n",
       "      <th>0</th>\n",
       "      <td>Titulo_Libro</td>\n",
       "      <td>Cualitativa Nominal</td>\n",
       "    </tr>\n",
       "    <tr>\n",
       "      <th>1</th>\n",
       "      <td>#Estrellas</td>\n",
       "      <td>Cualitativa Ordinal</td>\n",
       "    </tr>\n",
       "    <tr>\n",
       "      <th>2</th>\n",
       "      <td>Precio</td>\n",
       "      <td>Cuantitativa Continua</td>\n",
       "    </tr>\n",
       "  </tbody>\n",
       "</table>\n",
       "</div>"
      ],
      "text/plain": [
       "       Variable         TipoDeVariable\n",
       "0  Titulo_Libro    Cualitativa Nominal\n",
       "1    #Estrellas    Cualitativa Ordinal\n",
       "2        Precio  Cuantitativa Continua"
      ]
     },
     "execution_count": 7,
     "metadata": {},
     "output_type": "execute_result"
    }
   ],
   "source": [
    "tipo_variables = pd.DataFrame({'Variable': ['Titulo_Libro','#Estrellas','Precio'],\n",
    "                              'TipoDeVariable': ['Cualitativa Nominal','Cualitativa Ordinal','Cuantitativa Continua']})\n",
    "tipo_variables"
   ]
  },
  {
   "cell_type": "markdown",
   "id": "0f978d34",
   "metadata": {},
   "source": [
    "Ahora si procedemos a realizar un correcto analisis sobre las variables: #Estrellas(Cualitativa ordinal) y Precio(Cuantitativa Continua)."
   ]
  },
  {
   "cell_type": "markdown",
   "id": "7f9d597b",
   "metadata": {},
   "source": [
    "Analisis descriptivo variable #Estrellas(Cualitativa ordinal), se tiene:"
   ]
  },
  {
   "cell_type": "code",
   "execution_count": 8,
   "id": "571ab857",
   "metadata": {},
   "outputs": [
    {
     "data": {
      "text/html": [
       "<div>\n",
       "<style scoped>\n",
       "    .dataframe tbody tr th:only-of-type {\n",
       "        vertical-align: middle;\n",
       "    }\n",
       "\n",
       "    .dataframe tbody tr th {\n",
       "        vertical-align: top;\n",
       "    }\n",
       "\n",
       "    .dataframe thead th {\n",
       "        text-align: right;\n",
       "    }\n",
       "</style>\n",
       "<table border=\"1\" class=\"dataframe\">\n",
       "  <thead>\n",
       "    <tr style=\"text-align: right;\">\n",
       "      <th></th>\n",
       "      <th>Titulo_Libro</th>\n",
       "      <th>#Estrellas</th>\n",
       "      <th>Precio</th>\n",
       "    </tr>\n",
       "    <tr>\n",
       "      <th>ID</th>\n",
       "      <th></th>\n",
       "      <th></th>\n",
       "      <th></th>\n",
       "    </tr>\n",
       "  </thead>\n",
       "  <tbody>\n",
       "    <tr>\n",
       "      <th>0</th>\n",
       "      <td>A Light in the Attic</td>\n",
       "      <td>3</td>\n",
       "      <td>51.77</td>\n",
       "    </tr>\n",
       "    <tr>\n",
       "      <th>1</th>\n",
       "      <td>Tipping the Velvet</td>\n",
       "      <td>1</td>\n",
       "      <td>53.74</td>\n",
       "    </tr>\n",
       "    <tr>\n",
       "      <th>2</th>\n",
       "      <td>Soumission</td>\n",
       "      <td>1</td>\n",
       "      <td>50.10</td>\n",
       "    </tr>\n",
       "    <tr>\n",
       "      <th>3</th>\n",
       "      <td>Sharp Objects</td>\n",
       "      <td>4</td>\n",
       "      <td>47.82</td>\n",
       "    </tr>\n",
       "    <tr>\n",
       "      <th>4</th>\n",
       "      <td>Sapiens: A Brief History of Humankind</td>\n",
       "      <td>5</td>\n",
       "      <td>54.23</td>\n",
       "    </tr>\n",
       "    <tr>\n",
       "      <th>...</th>\n",
       "      <td>...</td>\n",
       "      <td>...</td>\n",
       "      <td>...</td>\n",
       "    </tr>\n",
       "    <tr>\n",
       "      <th>995</th>\n",
       "      <td>Alice in Wonderland (Alice's Adventures in Won...</td>\n",
       "      <td>1</td>\n",
       "      <td>55.53</td>\n",
       "    </tr>\n",
       "    <tr>\n",
       "      <th>996</th>\n",
       "      <td>Ajin: Demi-Human, Volume 1 (Ajin: Demi-Human #1)</td>\n",
       "      <td>4</td>\n",
       "      <td>57.06</td>\n",
       "    </tr>\n",
       "    <tr>\n",
       "      <th>997</th>\n",
       "      <td>A Spy's Devotion (The Regency Spies of London #1)</td>\n",
       "      <td>5</td>\n",
       "      <td>16.97</td>\n",
       "    </tr>\n",
       "    <tr>\n",
       "      <th>998</th>\n",
       "      <td>1st to Die (Women's Murder Club #1)</td>\n",
       "      <td>1</td>\n",
       "      <td>53.98</td>\n",
       "    </tr>\n",
       "    <tr>\n",
       "      <th>999</th>\n",
       "      <td>1,000 Places to See Before You Die</td>\n",
       "      <td>5</td>\n",
       "      <td>26.08</td>\n",
       "    </tr>\n",
       "  </tbody>\n",
       "</table>\n",
       "<p>1000 rows × 3 columns</p>\n",
       "</div>"
      ],
      "text/plain": [
       "                                          Titulo_Libro #Estrellas  Precio\n",
       "ID                                                                       \n",
       "0                                 A Light in the Attic          3   51.77\n",
       "1                                   Tipping the Velvet          1   53.74\n",
       "2                                           Soumission          1   50.10\n",
       "3                                        Sharp Objects          4   47.82\n",
       "4                Sapiens: A Brief History of Humankind          5   54.23\n",
       "..                                                 ...        ...     ...\n",
       "995  Alice in Wonderland (Alice's Adventures in Won...          1   55.53\n",
       "996   Ajin: Demi-Human, Volume 1 (Ajin: Demi-Human #1)          4   57.06\n",
       "997  A Spy's Devotion (The Regency Spies of London #1)          5   16.97\n",
       "998                1st to Die (Women's Murder Club #1)          1   53.98\n",
       "999                 1,000 Places to See Before You Die          5   26.08\n",
       "\n",
       "[1000 rows x 3 columns]"
      ]
     },
     "execution_count": 8,
     "metadata": {},
     "output_type": "execute_result"
    }
   ],
   "source": [
    "# A la variable #Estrellas, es una cualitativa ordinal, procemos fijandole el orden:\n",
    "df_libros[\"#Estrellas\"] = pd.Categorical(df_libros['#Estrellas'],\n",
    "                                        categories=[1,2,3,4,5],\n",
    "                                        ordered=True)\n",
    "df_libros"
   ]
  },
  {
   "cell_type": "code",
   "execution_count": 9,
   "id": "1c5a59f9",
   "metadata": {},
   "outputs": [],
   "source": [
    "# Para la columna de #estrellas,\n",
    "## Función para construir tablas de frecuencias\n",
    "def tabla_freq(columna):\n",
    "    x=pd.crosstab(index=columna,columns=\"count\").reset_index()\n",
    "    x=x.rename(columns={'count':'Frec. Abs.'})\n",
    "    y=pd.crosstab(index=columna,columns=\"count\", normalize='columns').reset_index()\n",
    "    y=y.rename(columns={'count':'Frec. Rel.'})\n",
    "    tabla=x.merge(y,how='left')\n",
    "    tabla.rename_axis(None, axis=1)\n",
    "    return tabla"
   ]
  },
  {
   "cell_type": "code",
   "execution_count": 10,
   "id": "0cc2b4cb",
   "metadata": {},
   "outputs": [
    {
     "data": {
      "text/html": [
       "<div>\n",
       "<style scoped>\n",
       "    .dataframe tbody tr th:only-of-type {\n",
       "        vertical-align: middle;\n",
       "    }\n",
       "\n",
       "    .dataframe tbody tr th {\n",
       "        vertical-align: top;\n",
       "    }\n",
       "\n",
       "    .dataframe thead th {\n",
       "        text-align: right;\n",
       "    }\n",
       "</style>\n",
       "<table border=\"1\" class=\"dataframe\">\n",
       "  <thead>\n",
       "    <tr style=\"text-align: right;\">\n",
       "      <th>col_0</th>\n",
       "      <th>#Estrellas</th>\n",
       "      <th>Frec. Abs.</th>\n",
       "      <th>Frec. Rel.</th>\n",
       "    </tr>\n",
       "  </thead>\n",
       "  <tbody>\n",
       "    <tr>\n",
       "      <th>0</th>\n",
       "      <td>1</td>\n",
       "      <td>226</td>\n",
       "      <td>0.226</td>\n",
       "    </tr>\n",
       "    <tr>\n",
       "      <th>1</th>\n",
       "      <td>2</td>\n",
       "      <td>196</td>\n",
       "      <td>0.196</td>\n",
       "    </tr>\n",
       "    <tr>\n",
       "      <th>2</th>\n",
       "      <td>3</td>\n",
       "      <td>203</td>\n",
       "      <td>0.203</td>\n",
       "    </tr>\n",
       "    <tr>\n",
       "      <th>3</th>\n",
       "      <td>4</td>\n",
       "      <td>179</td>\n",
       "      <td>0.179</td>\n",
       "    </tr>\n",
       "    <tr>\n",
       "      <th>4</th>\n",
       "      <td>5</td>\n",
       "      <td>196</td>\n",
       "      <td>0.196</td>\n",
       "    </tr>\n",
       "  </tbody>\n",
       "</table>\n",
       "</div>"
      ],
      "text/plain": [
       "col_0 #Estrellas  Frec. Abs.  Frec. Rel.\n",
       "0              1         226       0.226\n",
       "1              2         196       0.196\n",
       "2              3         203       0.203\n",
       "3              4         179       0.179\n",
       "4              5         196       0.196"
      ]
     },
     "execution_count": 10,
     "metadata": {},
     "output_type": "execute_result"
    }
   ],
   "source": [
    "tabla_estrellas = tabla_freq(df_libros['#Estrellas'])\n",
    "tabla_estrellas"
   ]
  },
  {
   "cell_type": "code",
   "execution_count": 14,
   "id": "dcf305f1",
   "metadata": {},
   "outputs": [
    {
     "data": {
      "image/png": "[encoded data removed]",
      "text/plain": [
       "<Figure size 800x600 with 1 Axes>"
      ]
     },
     "metadata": {},
     "output_type": "display_data"
    }
   ],
   "source": [
    "plt.figure(figsize=(8,6)) \n",
    "frec_estrellas=sns.barplot(x=tabla_estrellas['#Estrellas'],y=tabla_estrellas[\"Frec. Rel.\"]*100) ## aquí es el cambio\n",
    "frec_estrellas.bar_label(frec_estrellas.containers[0], label_type='edge',fmt='%.2f%%')  \n",
    "frec_estrellas.yaxis.set_major_formatter(mtick.PercentFormatter(xmax=100)) \n",
    "frec_estrellas.set(ylim=(0, 30))\n",
    "frec_estrellas.set_title('Proporción de libros según su #Estrellas', color = 'r')\n",
    "plt.show()  "
   ]
  },
  {
   "cell_type": "markdown",
   "id": "7bf5c070",
   "metadata": {},
   "source": [
    "**Conclusión:** Analizando los datos visualizados, es evidente que todas las categorias según el #Estrellas presentan aproximadamente la misma proporción, en base a este comportamiento podemos concluir que: \n",
    "* La calidad de los libros es consistente en general.\n",
    "* Los lectores tienen diferentes criterios para calificar los libros.\n",
    "* Amplia variedad de gustos y preferencias entre los lectores.\n",
    "* Diversidad de opiniones sobre los libros."
   ]
  },
  {
   "cell_type": "markdown",
   "id": "98e419ea",
   "metadata": {},
   "source": [
    "Procedemos a realizar un análisis descriptivo para la columna 'Precio':\n"
   ]
  },
  {
   "cell_type": "code",
   "execution_count": 16,
   "id": "eeb29300",
   "metadata": {},
   "outputs": [],
   "source": [
    "\"\"\"\n",
    "Esta función devuelve una tabla con un analisis descriptivo completo de la columna suministrada\n",
    "Args:\n",
    "    columnas (variable cuantitativa)\n",
    "    \n",
    "\"\"\"\n",
    "def tabla_descriptivas(columnas):\n",
    "    tabla_descriptivas=pd.DataFrame(columnas.describe())\n",
    "    tabla_descriptivas.loc['coef. variation']=columnas.std()/columnas.mean() # Coeficiente variación\n",
    "    tabla_descriptivas.loc['skew']=skew(columnas) # coeficiente de asimetria\n",
    "    tabla_descriptivas.loc['kurtosis']=kurtosis(columnas) # coeficiente de curtosis.\n",
    "    return tabla_descriptivas"
   ]
  },
  {
   "cell_type": "code",
   "execution_count": 17,
   "id": "caed8755",
   "metadata": {},
   "outputs": [
    {
     "data": {
      "text/html": [
       "<div>\n",
       "<style scoped>\n",
       "    .dataframe tbody tr th:only-of-type {\n",
       "        vertical-align: middle;\n",
       "    }\n",
       "\n",
       "    .dataframe tbody tr th {\n",
       "        vertical-align: top;\n",
       "    }\n",
       "\n",
       "    .dataframe thead th {\n",
       "        text-align: right;\n",
       "    }\n",
       "</style>\n",
       "<table border=\"1\" class=\"dataframe\">\n",
       "  <thead>\n",
       "    <tr style=\"text-align: right;\">\n",
       "      <th></th>\n",
       "      <th>Precio</th>\n",
       "    </tr>\n",
       "  </thead>\n",
       "  <tbody>\n",
       "    <tr>\n",
       "      <th>count</th>\n",
       "      <td>1000.000000</td>\n",
       "    </tr>\n",
       "    <tr>\n",
       "      <th>mean</th>\n",
       "      <td>35.070350</td>\n",
       "    </tr>\n",
       "    <tr>\n",
       "      <th>std</th>\n",
       "      <td>14.446690</td>\n",
       "    </tr>\n",
       "    <tr>\n",
       "      <th>min</th>\n",
       "      <td>10.000000</td>\n",
       "    </tr>\n",
       "    <tr>\n",
       "      <th>25%</th>\n",
       "      <td>22.107500</td>\n",
       "    </tr>\n",
       "    <tr>\n",
       "      <th>50%</th>\n",
       "      <td>35.980000</td>\n",
       "    </tr>\n",
       "    <tr>\n",
       "      <th>75%</th>\n",
       "      <td>47.457500</td>\n",
       "    </tr>\n",
       "    <tr>\n",
       "      <th>max</th>\n",
       "      <td>59.990000</td>\n",
       "    </tr>\n",
       "    <tr>\n",
       "      <th>coef. variation</th>\n",
       "      <td>0.411935</td>\n",
       "    </tr>\n",
       "    <tr>\n",
       "      <th>skew</th>\n",
       "      <td>-0.037458</td>\n",
       "    </tr>\n",
       "    <tr>\n",
       "      <th>kurtosis</th>\n",
       "      <td>-1.210078</td>\n",
       "    </tr>\n",
       "  </tbody>\n",
       "</table>\n",
       "</div>"
      ],
      "text/plain": [
       "                      Precio\n",
       "count            1000.000000\n",
       "mean               35.070350\n",
       "std                14.446690\n",
       "min                10.000000\n",
       "25%                22.107500\n",
       "50%                35.980000\n",
       "75%                47.457500\n",
       "max                59.990000\n",
       "coef. variation     0.411935\n",
       "skew               -0.037458\n",
       "kurtosis           -1.210078"
      ]
     },
     "execution_count": 17,
     "metadata": {},
     "output_type": "execute_result"
    }
   ],
   "source": [
    "tabla_precio = tabla_descriptivas(df_libros['Precio'])\n",
    "tabla_precio"
   ]
  },
  {
   "cell_type": "code",
   "execution_count": 21,
   "id": "8f5e4fd5",
   "metadata": {},
   "outputs": [
    {
     "data": {
      "image/png": "[encoded data removed]",
      "text/plain": [
       "<Figure size 800x600 with 1 Axes>"
      ]
     },
     "metadata": {},
     "output_type": "display_data"
    }
   ],
   "source": [
    "plt.figure(figsize=(8,6)) \n",
    "boxplot_precio=sns.boxplot(x=df_libros['Precio'],color=\"lightblue\",showmeans=True) ## crea el boxplot\n",
    "boxplot_precio.set_xlabel('Precio en £') ## cambia el título del eje x\n",
    "boxplot_precio.set_title('Distribución Precio de Libros', color='r')\n",
    "plt.show()  "
   ]
  },
  {
   "cell_type": "markdown",
   "id": "99f80b23",
   "metadata": {},
   "source": [
    "**Conclusión:** El centro de la distribución está en aproximadamente 36£ , con el 50% de los datos agrupados alrededor de este centro entre 22.1£ y 47.4£. La dispersión de los datos es moderada, se presentan muchos datos variables pero presentan cierta consistencia en proporción con la media. Finalmente, es posible afirmar que la distribución es relativamente simétrica (muy leve sesgo hacia la izquierda) y achatada (poca frecuencia de datos extremos)."
   ]
  },
  {
   "cell_type": "markdown",
   "id": "c5cdd1a7",
   "metadata": {},
   "source": [
    "¿Existe alguna relación entre el #Estrellas(calificación) de cada libro con el precio del mismo? "
   ]
  },
  {
   "cell_type": "markdown",
   "id": "c453a244",
   "metadata": {},
   "source": [
    "Se quiere conocer la relación '#Estrellas(Variable cualitativa) vs Precio(Variable Cuantitativa', se tiene:"
   ]
  },
  {
   "cell_type": "code",
   "execution_count": 22,
   "id": "bd0f7bbf",
   "metadata": {},
   "outputs": [
    {
     "data": {
      "text/html": [
       "<div>\n",
       "<style scoped>\n",
       "    .dataframe tbody tr th:only-of-type {\n",
       "        vertical-align: middle;\n",
       "    }\n",
       "\n",
       "    .dataframe tbody tr th {\n",
       "        vertical-align: top;\n",
       "    }\n",
       "\n",
       "    .dataframe thead th {\n",
       "        text-align: right;\n",
       "    }\n",
       "</style>\n",
       "<table border=\"1\" class=\"dataframe\">\n",
       "  <thead>\n",
       "    <tr style=\"text-align: right;\">\n",
       "      <th></th>\n",
       "      <th>count</th>\n",
       "      <th>mean</th>\n",
       "      <th>std</th>\n",
       "      <th>min</th>\n",
       "      <th>25%</th>\n",
       "      <th>50%</th>\n",
       "      <th>75%</th>\n",
       "      <th>max</th>\n",
       "    </tr>\n",
       "    <tr>\n",
       "      <th>#Estrellas</th>\n",
       "      <th></th>\n",
       "      <th></th>\n",
       "      <th></th>\n",
       "      <th></th>\n",
       "      <th></th>\n",
       "      <th></th>\n",
       "      <th></th>\n",
       "      <th></th>\n",
       "    </tr>\n",
       "  </thead>\n",
       "  <tbody>\n",
       "    <tr>\n",
       "      <th>1</th>\n",
       "      <td>226.0</td>\n",
       "      <td>34.561195</td>\n",
       "      <td>13.952258</td>\n",
       "      <td>10.40</td>\n",
       "      <td>22.2425</td>\n",
       "      <td>34.770</td>\n",
       "      <td>45.9175</td>\n",
       "      <td>59.64</td>\n",
       "    </tr>\n",
       "    <tr>\n",
       "      <th>2</th>\n",
       "      <td>196.0</td>\n",
       "      <td>34.810918</td>\n",
       "      <td>13.607017</td>\n",
       "      <td>10.02</td>\n",
       "      <td>23.8500</td>\n",
       "      <td>36.215</td>\n",
       "      <td>46.2500</td>\n",
       "      <td>59.95</td>\n",
       "    </tr>\n",
       "    <tr>\n",
       "      <th>3</th>\n",
       "      <td>203.0</td>\n",
       "      <td>34.692020</td>\n",
       "      <td>14.696649</td>\n",
       "      <td>10.16</td>\n",
       "      <td>22.1600</td>\n",
       "      <td>33.780</td>\n",
       "      <td>47.8100</td>\n",
       "      <td>59.99</td>\n",
       "    </tr>\n",
       "    <tr>\n",
       "      <th>4</th>\n",
       "      <td>179.0</td>\n",
       "      <td>36.093296</td>\n",
       "      <td>15.081276</td>\n",
       "      <td>10.01</td>\n",
       "      <td>21.9150</td>\n",
       "      <td>37.800</td>\n",
       "      <td>49.4450</td>\n",
       "      <td>59.45</td>\n",
       "    </tr>\n",
       "    <tr>\n",
       "      <th>5</th>\n",
       "      <td>196.0</td>\n",
       "      <td>35.374490</td>\n",
       "      <td>15.050722</td>\n",
       "      <td>10.00</td>\n",
       "      <td>21.0225</td>\n",
       "      <td>36.900</td>\n",
       "      <td>49.0025</td>\n",
       "      <td>59.92</td>\n",
       "    </tr>\n",
       "  </tbody>\n",
       "</table>\n",
       "</div>"
      ],
      "text/plain": [
       "            count       mean        std    min      25%     50%      75%  \\\n",
       "#Estrellas                                                                 \n",
       "1           226.0  34.561195  13.952258  10.40  22.2425  34.770  45.9175   \n",
       "2           196.0  34.810918  13.607017  10.02  23.8500  36.215  46.2500   \n",
       "3           203.0  34.692020  14.696649  10.16  22.1600  33.780  47.8100   \n",
       "4           179.0  36.093296  15.081276  10.01  21.9150  37.800  49.4450   \n",
       "5           196.0  35.374490  15.050722  10.00  21.0225  36.900  49.0025   \n",
       "\n",
       "              max  \n",
       "#Estrellas         \n",
       "1           59.64  \n",
       "2           59.95  \n",
       "3           59.99  \n",
       "4           59.45  \n",
       "5           59.92  "
      ]
     },
     "execution_count": 22,
     "metadata": {},
     "output_type": "execute_result"
    }
   ],
   "source": [
    "estrellas_precio = df_libros.groupby('#Estrellas')['Precio'].describe()\n",
    "estrellas_precio "
   ]
  },
  {
   "cell_type": "code",
   "execution_count": 23,
   "id": "656869be",
   "metadata": {},
   "outputs": [
    {
     "data": {
      "image/png": "[encoded data removed]",
      "text/plain": [
       "<Figure size 800x600 with 1 Axes>"
      ]
     },
     "metadata": {},
     "output_type": "display_data"
    }
   ],
   "source": [
    "plt.figure(figsize=(8,6)) \n",
    "boxplot_pf_overal=sns.boxplot(x=df_libros['#Estrellas'],y=df_libros['Precio'],color=\"lightblue\",showmeans=True) ## crea el boxplot\n",
    "boxplot_pf_overal.set_xlabel('#Estrellas') ## cambia el título del eje x\n",
    "boxplot_pf_overal.set_ylabel('Precio en £') ## cambia el título del eje \n",
    "# boxplot_pf_overal.set_ylim(0, 100)                     ## cambia los límites del eje y\n",
    "# boxplot_pf_overal.set_yticks(range(0,22,2))               ## cambia los valores del eje x\n",
    "boxplot_pf_overal.set_title('Distribución del Costo de los libros por No. Estrellas')\n",
    "plt.grid()\n",
    "plt.show()  "
   ]
  },
  {
   "cell_type": "markdown",
   "id": "16d6f602",
   "metadata": {},
   "source": [
    "**Conclusión:** De los datos presentados, se aprecia una distribución moderada para cada Calificación(#Estrellas) respecto a los costos de cada Libro, la cantidad de libros por grupos es aproximada y en comparacion de su precios, se percibe una ligera diferencia en las medias del precio de los libros respecto con sus calificaciones(#Estrellas), se tiene:\n",
    "* #Estrellas -> 1 (Media precio = 34.56)\n",
    "* #Estrellas -> 2 (Media precio = 34.8)\n",
    "* #Estrellas -> 3 (Media precio = 34.69)\n",
    "* #Estrellas -> 4 (Media precio = 36.09)\n",
    "* #Estrellas -> 5 (Media de precio = 35.37)\n",
    "\n",
    "De lo anterior se confirma la relación de Calidad(#Estrellas) vs Precio, debido a que los libros con mayor #Estrellas son los que presentan una media del precio mas alto. Aunque, si quisieramos realizar un analisis detallado en comparación a los libros con 4 estrellas y 5 estrellas, deberiamos enfocarnos en sus percentiles para comprender mejor la distribución del valor de cada libro."
   ]
  },
  {
   "cell_type": "markdown",
   "id": "50f71ea3",
   "metadata": {},
   "source": [
    "¿Cual es el libro de mayor costo y cual es su calificación de estrellas?\n",
    "¿Cual es el libro de menor costo y cual es su calificación de estrellas?"
   ]
  },
  {
   "cell_type": "code",
   "execution_count": 29,
   "id": "62bf5f2c",
   "metadata": {},
   "outputs": [],
   "source": []
  },
  {
   "cell_type": "code",
   "execution_count": 60,
   "id": "b1f5dc58",
   "metadata": {},
   "outputs": [],
   "source": [
    "def menor_mayor_precio(df):\n",
    "    maximo = df_libros['Precio'].max()\n",
    "    minimo = df_libros['Precio'].min()\n",
    "    fila_max_precio = df_libros[df_libros['Precio'] == maximo]\n",
    "    fila_min_precio = df_libros[df_libros['Precio'] == minimo]\n",
    "    return fila_max_precio, fila_min_precio"
   ]
  },
  {
   "cell_type": "code",
   "execution_count": 61,
   "id": "4b11f6f3",
   "metadata": {},
   "outputs": [
    {
     "name": "stdout",
     "output_type": "stream",
     "text": [
      "Libro de mayor Precio:\n"
     ]
    },
    {
     "data": {
      "text/html": [
       "<div>\n",
       "<style scoped>\n",
       "    .dataframe tbody tr th:only-of-type {\n",
       "        vertical-align: middle;\n",
       "    }\n",
       "\n",
       "    .dataframe tbody tr th {\n",
       "        vertical-align: top;\n",
       "    }\n",
       "\n",
       "    .dataframe thead th {\n",
       "        text-align: right;\n",
       "    }\n",
       "</style>\n",
       "<table border=\"1\" class=\"dataframe\">\n",
       "  <thead>\n",
       "    <tr style=\"text-align: right;\">\n",
       "      <th></th>\n",
       "      <th>Titulo_Libro</th>\n",
       "      <th>#Estrellas</th>\n",
       "      <th>Precio</th>\n",
       "    </tr>\n",
       "    <tr>\n",
       "      <th>ID</th>\n",
       "      <th></th>\n",
       "      <th></th>\n",
       "      <th></th>\n",
       "    </tr>\n",
       "  </thead>\n",
       "  <tbody>\n",
       "    <tr>\n",
       "      <th>648</th>\n",
       "      <td>The Perfect Play (Play by Play #1)</td>\n",
       "      <td>3</td>\n",
       "      <td>59.99</td>\n",
       "    </tr>\n",
       "  </tbody>\n",
       "</table>\n",
       "</div>"
      ],
      "text/plain": [
       "                           Titulo_Libro #Estrellas  Precio\n",
       "ID                                                        \n",
       "648  The Perfect Play (Play by Play #1)          3   59.99"
      ]
     },
     "metadata": {},
     "output_type": "display_data"
    },
    {
     "name": "stdout",
     "output_type": "stream",
     "text": [
      "****************************************************************************************************\n",
      "Libro de menor Precio:\n"
     ]
    },
    {
     "data": {
      "text/html": [
       "<div>\n",
       "<style scoped>\n",
       "    .dataframe tbody tr th:only-of-type {\n",
       "        vertical-align: middle;\n",
       "    }\n",
       "\n",
       "    .dataframe tbody tr th {\n",
       "        vertical-align: top;\n",
       "    }\n",
       "\n",
       "    .dataframe thead th {\n",
       "        text-align: right;\n",
       "    }\n",
       "</style>\n",
       "<table border=\"1\" class=\"dataframe\">\n",
       "  <thead>\n",
       "    <tr style=\"text-align: right;\">\n",
       "      <th></th>\n",
       "      <th>Titulo_Libro</th>\n",
       "      <th>#Estrellas</th>\n",
       "      <th>Precio</th>\n",
       "    </tr>\n",
       "    <tr>\n",
       "      <th>ID</th>\n",
       "      <th></th>\n",
       "      <th></th>\n",
       "      <th></th>\n",
       "    </tr>\n",
       "  </thead>\n",
       "  <tbody>\n",
       "    <tr>\n",
       "      <th>638</th>\n",
       "      <td>An Abundance of Katherines</td>\n",
       "      <td>5</td>\n",
       "      <td>10.0</td>\n",
       "    </tr>\n",
       "  </tbody>\n",
       "</table>\n",
       "</div>"
      ],
      "text/plain": [
       "                   Titulo_Libro #Estrellas  Precio\n",
       "ID                                                \n",
       "638  An Abundance of Katherines          5    10.0"
      ]
     },
     "metadata": {},
     "output_type": "display_data"
    }
   ],
   "source": [
    "mayor_costo, menor_costo = menor_mayor_precio(df_libros)\n",
    "\n",
    "print('Libro de mayor Precio:')\n",
    "display(mayor_costo)\n",
    "print('*'*100)\n",
    "print('Libro de menor Precio:')\n",
    "display(menor_costo)"
   ]
  },
  {
   "cell_type": "code",
   "execution_count": null,
   "id": "a8b7f6c0",
   "metadata": {},
   "outputs": [],
   "source": []
  }
 ],
 "metadata": {
  "kernelspec": {
   "display_name": "Python 3 (ipykernel)",
   "language": "python",
   "name": "python3"
  },
  "language_info": {
   "codemirror_mode": {
    "name": "ipython",
    "version": 3
   },
   "file_extension": ".py",
   "mimetype": "text/x-python",
   "name": "python",
   "nbconvert_exporter": "python",
   "pygments_lexer": "ipython3",
   "version": "3.11.5"
  }
 },
 "nbformat": 4,
 "nbformat_minor": 5
}
